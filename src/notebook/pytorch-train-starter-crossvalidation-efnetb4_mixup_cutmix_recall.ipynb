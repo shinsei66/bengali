{
 "cells": [
  {
   "cell_type": "markdown",
   "metadata": {},
   "source": [
    "# Import Libraries"
   ]
  },
  {
   "cell_type": "code",
   "execution_count": 32,
   "metadata": {
    "_cell_guid": "b1076dfc-b9ad-4769-8c92-a6c4dae69d19",
    "_uuid": "8f2839f25d086af736a60e9eeb907d3b93b6e0e5"
   },
   "outputs": [
    {
     "name": "stdout",
     "output_type": "stream",
     "text": [
      "../../input/train.csv\n",
      "../../input/test.csv\n",
      "../../input/class_map.csv\n",
      "../../input/.gitkeep\n",
      "../../input/sample_submission.csv\n",
      "../../input/parquet/train_image_data_2.parquet\n",
      "../../input/parquet/test_image_data_2.parquet\n",
      "../../input/parquet/train_image_data_3.parquet\n",
      "../../input/parquet/test_image_data_1.parquet\n",
      "../../input/parquet/test_image_data_0.parquet\n",
      "../../input/parquet/test_image_data_3.parquet\n",
      "../../input/parquet/train_image_data_0.parquet\n",
      "../../input/parquet/train_image_data_1.parquet\n",
      "../../input/feather/train_image_data_2.feather\n",
      "../../input/feather/test_image_data_1.feather\n",
      "../../input/feather/train_image_data_1.feather\n",
      "../../input/feather/test_image_data_3.feather\n",
      "../../input/feather/train_image_data_0.feather\n",
      "../../input/feather/test_image_data_0.feather\n",
      "../../input/feather/test_image_data_2.feather\n",
      "../../input/feather/train_image_data_3.feather\n"
     ]
    }
   ],
   "source": [
    "#+---- Basic Libraries ----+#\n",
    "import sys, os, time, gc, random\n",
    "from pathlib import Path\n",
    "import pandas as pd\n",
    "import numpy as np\n",
    "import copy\n",
    "from utils import *\n",
    "\n",
    "#+---- Utilities Libraries ----+#\n",
    "#import albumentations as albu\n",
    "import pretrainedmodels\n",
    "from efficientnet_pytorch import EfficientNet\n",
    "from iterstrat.ml_stratifiers import MultilabelStratifiedKFold\n",
    "from PIL import Image\n",
    "from tqdm.notebook import tqdm\n",
    "import sklearn\n",
    "import seaborn as sns\n",
    "import matplotlib.pyplot as plt\n",
    "\n",
    "#+---- Pytorch Libraries ----+#\n",
    "import torch\n",
    "import torch.nn as nn\n",
    "import torch.optim as optim\n",
    "from torch.optim import lr_scheduler\n",
    "from torch.utils import model_zoo\n",
    "import numpy as np\n",
    "import torchvision\n",
    "from torchvision import datasets, models, transforms\n",
    "from torch.utils.data import Dataset, DataLoader\n",
    "from torch.nn import functional as F\n",
    "\n",
    "#+---- List the input data ----+#\n",
    "for dirname, _, filenames in os.walk('../../input/'):\n",
    "    for filename in filenames:\n",
    "        print(os.path.join(dirname, filename))\n",
    "\n",
    "# Any results you write to the current directory are saved as output."
   ]
  },
  {
   "cell_type": "markdown",
   "metadata": {
    "_cell_guid": "79c7e3d0-c299-4dcb-8224-4455121ee9b0",
    "_uuid": "d629ff2d2480ee46fbb7e2d37f6b5fab8052498a",
    "collapsed": true
   },
   "source": [
    "# Initial Settings"
   ]
  },
  {
   "cell_type": "markdown",
   "metadata": {},
   "source": [
    "## Directories"
   ]
  },
  {
   "cell_type": "code",
   "execution_count": 2,
   "metadata": {},
   "outputs": [
    {
     "data": {
      "text/plain": [
       "['input', '.gitignore', 'README.md', '.git', 'src', 'submission', 'output']"
      ]
     },
     "execution_count": 2,
     "metadata": {},
     "output_type": "execute_result"
    }
   ],
   "source": [
    "DATADIR = Path('../../input')\n",
    "FEATHERDIR = Path('../../input/feather')\n",
    "OUTDIR = Path('../../output')\n",
    "os.listdir('../../')"
   ]
  },
  {
   "cell_type": "markdown",
   "metadata": {},
   "source": [
    "## Learning Parameters"
   ]
  },
  {
   "cell_type": "code",
   "execution_count": 33,
   "metadata": {},
   "outputs": [],
   "source": [
    "DEBUG =False\n",
    "SUBMISSION =False\n",
    "BATCH_SIZE =64\n",
    "NUM_EPOCH = 48\n",
    "DEVICE = torch.device(\"cuda:0\" if torch.cuda.is_available() else \"cpu\")\n",
    "MDL_DIR = '../models'\n",
    "LOG_DIR = '../logs'\n",
    "IMAGE_SIZE=128\n",
    "TRAIN_RATIO = 0.9\n",
    "WORKER = 4\n",
    "SEED = 6666\n",
    "MODEL_NAME ='efficientnet-b4'\n",
    "N_Fold = 10\n",
    "CV = True\n",
    "Fold = 1\n",
    "PATIAENCE = 4\n",
    "VER = 'fold_1_mixup_cutmix_recall'"
   ]
  },
  {
   "cell_type": "code",
   "execution_count": 34,
   "metadata": {},
   "outputs": [],
   "source": [
    "n_grapheme = 168\n",
    "n_vowel = 11\n",
    "n_consonant = 7\n",
    "n_total = n_grapheme + n_vowel + n_consonant"
   ]
  },
  {
   "cell_type": "markdown",
   "metadata": {},
   "source": [
    "# Dataset"
   ]
  },
  {
   "cell_type": "markdown",
   "metadata": {},
   "source": [
    "## Transform class for data preprocessing and augmentations"
   ]
  },
  {
   "cell_type": "code",
   "execution_count": 5,
   "metadata": {},
   "outputs": [],
   "source": [
    "def prepare_image(datadir, featherdir, data_type='train',\n",
    "                  submission=False, indices=[0, 1, 2, 3]):\n",
    "    assert data_type in ['train', 'test']\n",
    "    if submission:\n",
    "        image_df_list = [pd.read_parquet(datadir / f'{data_type}_image_data_{i}.parquet')\n",
    "                         for i in indices]\n",
    "    else:\n",
    "        image_df_list = [pd.read_feather(featherdir / f'{data_type}_image_data_{i}.feather')\n",
    "                         for i in indices]\n",
    "\n",
    "    print('image_df_list', len(image_df_list))\n",
    "    HEIGHT = 137\n",
    "    WIDTH = 236\n",
    "    images = [df.iloc[:, 1:].values.reshape(-1, HEIGHT, WIDTH) for df in image_df_list]\n",
    "    del image_df_list\n",
    "    gc.collect()\n",
    "    images = np.concatenate(images, axis=0)\n",
    "    return images"
   ]
  },
  {
   "cell_type": "code",
   "execution_count": 6,
   "metadata": {},
   "outputs": [],
   "source": [
    "def crop_char_image(image, threshold=5./255.):\n",
    "    assert image.ndim == 2\n",
    "    is_black = image > threshold\n",
    "\n",
    "    is_black_vertical = np.sum(is_black, axis=0) > 0\n",
    "    is_black_horizontal = np.sum(is_black, axis=1) > 0\n",
    "    left = np.argmax(is_black_horizontal)\n",
    "    right = np.argmax(is_black_horizontal[::-1])\n",
    "    top = np.argmax(is_black_vertical)\n",
    "    bottom = np.argmax(is_black_vertical[::-1])\n",
    "    height, width = image.shape\n",
    "    cropped_image = image[left:height - right, top:width - bottom]\n",
    "    return cropped_image"
   ]
  },
  {
   "cell_type": "code",
   "execution_count": 7,
   "metadata": {},
   "outputs": [],
   "source": [
    "data_transforms = {\n",
    "    'train': transforms.Compose([\n",
    "        #transforms.ToPILImage(),\n",
    "        transforms.ColorJitter(0.5,0.5,0.5,0.5),\n",
    "        transforms.RandomAffine(degrees=0.6),\n",
    "        transforms.Resize((IMAGE_SIZE,IMAGE_SIZE)),\n",
    "        transforms.ToTensor(),\n",
    "        transforms.Normalize([0.485, 0.456, 0.406], [0.229, 0.224, 0.225]),\n",
    "    \n",
    "    ]),\n",
    "    'val': transforms.Compose([\n",
    "        #transforms.ToPILImage(),\n",
    "        transforms.Resize((IMAGE_SIZE,IMAGE_SIZE)),\n",
    "        transforms.ToTensor(),\n",
    "        transforms.Normalize([0.485, 0.456, 0.406], [0.229, 0.224, 0.225])\n",
    "    ]),\n",
    "    'test': transforms.Compose([\n",
    "        #transforms.ToPILImage(),\n",
    "        transforms.Resize((IMAGE_SIZE,IMAGE_SIZE)),\n",
    "        transforms.ToTensor(),\n",
    "        transforms.Normalize([0.485, 0.456, 0.406], [0.229, 0.224, 0.225])\n",
    "    ])\n",
    "}"
   ]
  },
  {
   "cell_type": "code",
   "execution_count": 8,
   "metadata": {},
   "outputs": [],
   "source": [
    "class BengaliAIDataset(Dataset):\n",
    "    def __init__(self, images, labels=None, transform=None, indices=None):\n",
    "        self.transform = transform\n",
    "        self.images = images\n",
    "        self.labels = labels\n",
    "        if indices is None:\n",
    "            indices = np.arange(len(images))\n",
    "        self.indices = indices\n",
    "        self.train = labels is not None\n",
    "\n",
    "    def __len__(self):\n",
    "        \"\"\"return length of this dataset\"\"\"\n",
    "        return len(self.indices)\n",
    "      \n",
    "    def __getitem__(self, i):\n",
    "        \"\"\"Return i-th data\"\"\"\n",
    "        i = self.indices[i]\n",
    "        x = self.images[i]\n",
    "        # Opposite white and black: background will be white and\n",
    "        # for future Affine transformation\n",
    "        x = (255 - x).astype(np.float32) #/ 255.\n",
    "        x = crop_char_image(x)\n",
    "        x = Image.fromarray(x).convert(\"RGB\")\n",
    "        x = self.transform(x)\n",
    "        if self.train:\n",
    "            y = self.labels[i]\n",
    "            return x, y\n",
    "        else:\n",
    "            return x"
   ]
  },
  {
   "cell_type": "markdown",
   "metadata": {},
   "source": [
    "## Import Data"
   ]
  },
  {
   "cell_type": "code",
   "execution_count": 35,
   "metadata": {},
   "outputs": [
    {
     "name": "stdout",
     "output_type": "stream",
     "text": [
      "Fold 1\n",
      "Fold 2\n",
      "Fold 3\n",
      "Fold 4\n",
      "Fold 5\n",
      "Fold 6\n",
      "Fold 7\n",
      "Fold 8\n",
      "Fold 9\n",
      "Fold 10\n"
     ]
    }
   ],
   "source": [
    "train = pd.read_csv(DATADIR/'train.csv')\n",
    "train['id'] = train['image_id'].apply(lambda x: int(x.split('_')[1]))\n",
    "X, y = train[['id', 'grapheme_root', 'vowel_diacritic', 'consonant_diacritic']]\\\n",
    ".values[:,0], train.values[:,1:]\n",
    "train['fold'] = np.nan\n",
    "mskf = MultilabelStratifiedKFold(n_splits=N_Fold)\n",
    "for i, (_, index) in enumerate(mskf.split(X, y)):\n",
    "    print('Fold '+str(i+1))\n",
    "    train.iloc[index, -1] = i\n",
    "train['fold'] = train['fold'].astype('int')"
   ]
  },
  {
   "cell_type": "code",
   "execution_count": 36,
   "metadata": {},
   "outputs": [
    {
     "name": "stdout",
     "output_type": "stream",
     "text": [
      "image_df_list 4\n",
      "CPU times: user 11.1 s, sys: 12.3 s, total: 23.3 s\n",
      "Wall time: 13.4 s\n"
     ]
    }
   ],
   "source": [
    "%%time\n",
    "#train = pd.read_csv(DATADIR/'train.csv')\n",
    "train_labels = train[['grapheme_root', 'vowel_diacritic', 'consonant_diacritic']].values\n",
    "indices = [0] if DEBUG else [0, 1, 2, 3]\n",
    "train_images = prepare_image(\n",
    "    DATADIR, FEATHERDIR, data_type='train', submission=False, indices=indices)"
   ]
  },
  {
   "cell_type": "code",
   "execution_count": 37,
   "metadata": {},
   "outputs": [],
   "source": [
    "n_dataset = len(train_images)\n",
    "\n",
    "if not CV:\n",
    "    train_data_size = 200 if DEBUG else int(n_dataset * TRAIN_RATIO)\n",
    "    valid_data_size = 100 if DEBUG else int(n_dataset - train_data_size)\n",
    "    perm = np.random.RandomState(777).permutation(n_dataset)\n",
    "    print('perm', perm)\n",
    "\n",
    "    train_dataset = BengaliAIDataset(\n",
    "        train_images, train_labels, transform=data_transforms['train'],\n",
    "        indices=perm[:train_data_size])\n",
    "\n",
    "    valid_dataset = BengaliAIDataset(\n",
    "        train_images, train_labels, transform=data_transforms['val'],\n",
    "        indices=perm[train_data_size:train_data_size+valid_data_size])\n",
    "else:\n",
    "    valid_idx = np.array(train[train['fold']==Fold].index)\n",
    "    trn_idx = np.array(train[train['fold']!=Fold].index)\n",
    "    trn_idx = trn_idx[:200] if DEBUG else trn_idx\n",
    "    valid_idx = valid_idx[:100] if DEBUG else valid_idx\n",
    "    \n",
    "    train_dataset = BengaliAIDataset(\n",
    "        train_images, train_labels, transform=data_transforms['train'],\n",
    "        indices=trn_idx)\n",
    "    valid_dataset = BengaliAIDataset(\n",
    "        train_images, train_labels, transform=data_transforms['val'],\n",
    "        indices=valid_idx)\n",
    "\n",
    "train_loader = DataLoader(train_dataset, batch_size=BATCH_SIZE, shuffle=True, num_workers=WORKER)\n",
    "valid_loader = DataLoader(valid_dataset, batch_size=BATCH_SIZE, shuffle=False, num_workers=WORKER)\n",
    "\n",
    "dataloaders = {'train':train_loader, 'val': valid_loader}\n",
    "dataset_sizes = {'train':len(train_dataset), 'val': len(valid_dataset)}"
   ]
  },
  {
   "cell_type": "code",
   "execution_count": 38,
   "metadata": {},
   "outputs": [
    {
     "name": "stdout",
     "output_type": "stream",
     "text": [
      "image torch.Size([3, 128, 128]) label [159   0   0]\n"
     ]
    }
   ],
   "source": [
    "image, label = train_dataset[1]\n",
    "print('image', image.shape, 'label', label)"
   ]
  },
  {
   "cell_type": "markdown",
   "metadata": {},
   "source": [
    "# Define Model/Train functions"
   ]
  },
  {
   "cell_type": "code",
   "execution_count": 17,
   "metadata": {},
   "outputs": [],
   "source": [
    "def macro_recall(pred_labels, y, n_grapheme=168, n_vowel=11, n_consonant=7):\n",
    "    recall_grapheme = sklearn.metrics.recall_score(y[0], pred_labels[0],  average='macro')\n",
    "    recall_vowel = sklearn.metrics.recall_score(y[1],pred_labels[1], average='macro')\n",
    "    recall_consonant = sklearn.metrics.recall_score(y[2],pred_labels[2],  average='macro')\n",
    "    scores = [recall_grapheme, recall_vowel, recall_consonant]\n",
    "    final_score = np.average(scores, weights=[2, 1, 1])\n",
    "    #print(f'recall: grapheme {recall_grapheme}, vowel {recall_vowel}, consonant {recall_consonant}, '\n",
    "     #      f'total {final_score}')\n",
    "    return final_score"
   ]
  },
  {
   "cell_type": "code",
   "execution_count": 14,
   "metadata": {},
   "outputs": [],
   "source": [
    "def get_pred(preds_list, label_list):\n",
    "    #preds_list is torch tensor to device\n",
    "    #label_list is torch tensor to device\n",
    "    _, pred0 = torch.max(preds_list[0], 1)\n",
    "    _, pred1 = torch.max(preds_list[1], 1)\n",
    "    _, pred2 = torch.max(preds_list[2], 1)\n",
    "    p0 = pred0.cpu().numpy()\n",
    "    p1 = pred1.cpu().numpy()\n",
    "    p2 = pred2.cpu().numpy()\n",
    "    pred_labels = [p0, p1, p2]\n",
    "    #print(pred_labels)\n",
    "    a0 = label_list[0].cpu().numpy()\n",
    "    a1 = label_list[1].cpu().numpy()\n",
    "    a2 = label_list[2].cpu().numpy() \n",
    "    y = [a0, a1, a2]\n",
    "    #print(y)\n",
    "    return pred_labels, y"
   ]
  },
  {
   "cell_type": "code",
   "execution_count": 15,
   "metadata": {
    "code_folding": [
     0,
     17,
     34,
     49,
     57
    ]
   },
   "outputs": [],
   "source": [
    "def rand_bbox(size, lam):\n",
    "    W = size[2]\n",
    "    H = size[3]\n",
    "    cut_rat = np.sqrt(1. - lam)\n",
    "    cut_w = np.int(W * cut_rat)\n",
    "    cut_h = np.int(H * cut_rat)\n",
    "\n",
    "    # uniform\n",
    "    cx = np.random.randint(W)\n",
    "    cy = np.random.randint(H)\n",
    "\n",
    "    bbx1 = np.clip(cx - cut_w // 2, 0, W)\n",
    "    bby1 = np.clip(cy - cut_h // 2, 0, H)\n",
    "    bbx2 = np.clip(cx + cut_w // 2, 0, W)\n",
    "    bby2 = np.clip(cy + cut_h // 2, 0, H)\n",
    "\n",
    "    return bbx1, bby1, bbx2, bby2\n",
    "def cutmix(data, targets1, targets2, targets3, alpha):\n",
    "    indices = torch.randperm(data.size(0))\n",
    "    shuffled_data = data[indices]\n",
    "    shuffled_targets1 = targets1[indices]\n",
    "    shuffled_targets2 = targets2[indices]\n",
    "    shuffled_targets3 = targets3[indices]\n",
    "\n",
    "    lam = np.random.beta(alpha, alpha)\n",
    "    bbx1, bby1, bbx2, bby2 = rand_bbox(data.size(), lam)\n",
    "    data[:, :, bbx1:bbx2, bby1:bby2] = data[indices, :, bbx1:bbx2, bby1:bby2]\n",
    "    # adjust lambda to exactly match pixel ratio\n",
    "    lam = 1 - ((bbx2 - bbx1) * (bby2 - bby1) / (data.size()[-1] * data.size()[-2]))\n",
    "\n",
    "    targets = [targets1, shuffled_targets1, targets2, shuffled_targets2, targets3, \\\n",
    "               shuffled_targets3, lam]\n",
    "    return data, targets\n",
    "\n",
    "def mixup(data, targets1, targets2, targets3, alpha):\n",
    "    indices = torch.randperm(data.size(0))\n",
    "    shuffled_data = data[indices]\n",
    "    shuffled_targets1 = targets1[indices]\n",
    "    shuffled_targets2 = targets2[indices]\n",
    "    shuffled_targets3 = targets3[indices]\n",
    "\n",
    "    lam = np.random.beta(alpha, alpha)\n",
    "    data = data * lam + shuffled_data * (1 - lam)\n",
    "    targets = [targets1, shuffled_targets1, targets2, shuffled_targets2, targets3,\\\n",
    "               shuffled_targets3, lam]\n",
    "\n",
    "    return data, targets\n",
    "\n",
    "\n",
    "def cutmix_criterion(preds1,preds2,preds3, targets):\n",
    "    targets1, targets2,targets3, targets4,targets5, targets6, lam = targets[0], targets[1],\\\n",
    "    targets[2], targets[3], targets[4], targets[5], targets[6]\n",
    "    criterion = nn.CrossEntropyLoss(reduction='mean')\n",
    "    return lam * criterion(preds1, targets1) + (1 - lam) * criterion(preds1, targets2) +\\\n",
    "lam * criterion(preds2, targets3) + (1 - lam) * criterion(preds2, targets4) +\\\n",
    "lam * criterion(preds3, targets5) + (1 - lam) * criterion(preds3, targets6)\n",
    "\n",
    "def mixup_criterion(preds1,preds2,preds3, targets):\n",
    "    targets1, targets2,targets3, targets4,targets5, targets6, lam = targets[0], \\\n",
    "    targets[1], targets[2], targets[3], targets[4], targets[5], targets[6]\n",
    "    criterion = nn.CrossEntropyLoss(reduction='mean')\n",
    "    return lam * criterion(preds1, targets1) + (1 - lam) * criterion(preds1, targets2)\\\n",
    "+ lam * criterion(preds2, targets3) + (1 - lam) * criterion(preds2, targets4) +\\\n",
    "lam * criterion(preds3, targets5) + (1 - lam) * criterion(preds3, targets6)"
   ]
  },
  {
   "cell_type": "code",
   "execution_count": 62,
   "metadata": {
    "code_folding": []
   },
   "outputs": [],
   "source": [
    "def train_model(model, dataloaders, criterion, optimizer, scheduler,start_epoch,\n",
    "                num_epochs, device, patiance):\n",
    "    since = time.time()\n",
    "    \n",
    "    trn_loss_list =[]\n",
    "    trn_acc_list = []\n",
    "    val_loss_list =[]\n",
    "    val_acc_list = []\n",
    "    epoch_list = []\n",
    "    recall_list = []\n",
    "    mix_cnt = 0\n",
    "    cut_cnt = 0\n",
    "\n",
    "    best_model_wts = copy.deepcopy(model.state_dict())\n",
    "    best_acc = 0.0\n",
    "    best_loss = 10\n",
    "    best_recall = 0.0\n",
    "    torch.backends.cudnn.benchmark = True\n",
    "    early_stopping_counter = 0\n",
    "    \n",
    "    for epoch in range(num_epochs)[start_epoch:]:\n",
    "        print('Epoch {}/{}'.format(epoch+1, num_epochs))\n",
    "        print('-' * 30)  \n",
    "        \n",
    "        if early_stopping_counter == patiance:\n",
    "            print(f'Early Stopped since loss have not decreased for {patiance} epoch.')\n",
    "            break\n",
    "        epoch_list.append(epoch+1)\n",
    "        # Each epoch has a training and validation phase\n",
    "        for phase in ['train', 'val']:\n",
    "            if phase == 'train':\n",
    "                model.train()  # Set model to training mode\n",
    "            else:\n",
    "                model.eval()   # Set model to evaluate mode\n",
    "\n",
    "            epoch_loss = 0.0\n",
    "            epoch_corrects = 0\n",
    "            dataset_sizes = len(dataloaders[phase].dataset)\n",
    "            length = int(np.floor(dataset_sizes/BATCH_SIZE))\n",
    "            ratio = 0.15\n",
    "            randomlist = random.sample( range(length), int(ratio*length))\n",
    "            mixuplist = randomlist[:int(ratio*length/2)]\n",
    "            cutmixlist = randomlist[int(ratio*length/2):]\n",
    "\n",
    "            # Iterate over data.\n",
    "            for idx, (inputs, labels) in enumerate(tqdm(dataloaders[phase])):\n",
    "                #print(inputs.shape)\n",
    "                inputs = inputs.to(device)\n",
    "                labels = labels.transpose(1,0).to(device) #use when single label for one image\n",
    "\n",
    "                grapheme_root = labels[0]\n",
    "                vowel_diacritic = labels[1]\n",
    "                consonant_diacritic = labels[2]\n",
    "                \n",
    "                # zero the parameter gradients\n",
    "                optimizer.zero_grad()\n",
    "\n",
    "                # Forward\n",
    "                # track history if only in train\n",
    "                with torch.set_grad_enabled(phase == 'train'):                                 \n",
    "                    if phase == 'train':\n",
    "                        if idx in mixuplist:\n",
    "                            mix_cnt += 1\n",
    "                            inputs_mixed, labels_mixed = mixup(inputs, grapheme_root, \\\n",
    "                                                               vowel_diacritic, consonant_diacritic, 0.2)\n",
    "\n",
    "                            outputs = model(inputs_mixed) \n",
    "                            grapheme_root_prd = outputs[0]\n",
    "                            vowel_diacritic_prd = outputs[1]\n",
    "                            consonant_diacritic_prd = outputs[2]\n",
    "                            loss = mixup_criterion(grapheme_root_prd,vowel_diacritic_prd,\\\n",
    "                                               consonant_diacritic_prd, labels_mixed)\n",
    "                            \n",
    "                        elif idx in cutmixlist:\n",
    "                            cut_cnt += 1\n",
    "                            inputs_cut, labels_cut = cutmix(inputs, grapheme_root, \\\n",
    "                                                               vowel_diacritic, consonant_diacritic, 0.2)\n",
    "\n",
    "                            outputs = model(inputs_cut) \n",
    "                            grapheme_root_prd = outputs[0]\n",
    "                            vowel_diacritic_prd = outputs[1]\n",
    "                            consonant_diacritic_prd = outputs[2]\n",
    "                            loss = cutmix_criterion(grapheme_root_prd,vowel_diacritic_prd,\\\n",
    "                                               consonant_diacritic_prd, labels_cut)\n",
    "                        \n",
    "                        else:\n",
    "                            outputs = model(inputs)\n",
    "                            grapheme_root_prd = outputs[0]\n",
    "                            vowel_diacritic_prd = outputs[1]\n",
    "                            consonant_diacritic_prd = outputs[2]\n",
    "                            loss = (1/3)*(criterion(grapheme_root_prd, grapheme_root)+\\\n",
    "                                  criterion(vowel_diacritic_prd, vowel_diacritic) +\\\n",
    "                                     criterion(consonant_diacritic_prd, consonant_diacritic))\n",
    "                        loss.backward()\n",
    "                        optimizer.step()\n",
    "                    if phase == 'val':\n",
    "                        outputs = model(inputs)\n",
    "                        grapheme_root_prd = outputs[0]\n",
    "                        vowel_diacritic_prd = outputs[1]\n",
    "                        consonant_diacritic_prd = outputs[2]\n",
    "                        loss = (1/3)*(criterion(grapheme_root_prd, grapheme_root)+\\\n",
    "                              criterion(vowel_diacritic_prd, vowel_diacritic) +\\\n",
    "                                 criterion(consonant_diacritic_prd, consonant_diacritic))\n",
    "                        #scheduler.step()\n",
    "                        # if plateau scheduler use following\n",
    "                        \n",
    "                # statistics: inputs.size(0) is batch size\n",
    "                epoch_loss += loss.item() * inputs.size(0) # total loss for this batch\n",
    "                epoch_corrects += torch.sum(torch.max(outputs[0], 1)[1] == labels[0])+\\\n",
    "                    torch.sum(torch.max(outputs[1], 1)[1] == labels[1])+\\\n",
    "                    torch.sum(torch.max(outputs[2], 1)[1] == labels[2])\n",
    "                \n",
    "            epoch_loss = epoch_loss / dataset_sizes\n",
    "            epoch_acc = epoch_corrects.double() / (dataset_sizes*3)\n",
    "            pred, lbls = get_pred(outputs, labels)\n",
    "            recall = macro_recall(pred, lbls, \\\n",
    "                                      n_grapheme=168, n_vowel=11, n_consonant=7)\n",
    "            \n",
    "            if phase == 'train':\n",
    "                trn_loss_list.append(epoch_loss)\n",
    "                trn_acc_list.append(epoch_acc.cpu().numpy())\n",
    "\n",
    "            print('{} Loss: {:.4f} Acc: {:.4f}'.format(\n",
    "                phase, epoch_loss, epoch_acc))\n",
    "\n",
    "            # Deep copy the model\n",
    "            if phase == 'val' and recall > best_recall:\n",
    "                best_model_wts = copy.deepcopy(model.state_dict())\n",
    "                if not os.path.exists(f'{MDL_DIR}/{MODEL_NAME}_{VER}'):\n",
    "                    os.mkdir(f'{MDL_DIR}/{MODEL_NAME}_{VER}')\n",
    "                save_path = f'{MDL_DIR}/{MODEL_NAME}_{VER}/{MODEL_NAME}_'+str(epoch+1)+'.pth'\n",
    "                torch.save(model_ft.state_dict(),save_path)\n",
    "                best_epoch = epoch\n",
    "            \n",
    "            if phase == 'val':\n",
    "                if epoch == 0 or epoch == start_epoch:\n",
    "                    best_recall = recall\n",
    "                    \n",
    "                else:\n",
    "                    if recall > best_recall:\n",
    "                        print(recall)\n",
    "                        best_recall = recall\n",
    "                        early_stopping_counter = 0\n",
    "                    else:\n",
    "                        early_stopping_counter += 1\n",
    "                        print(f'Early stopping counter: {early_stopping_counter}')\n",
    "\n",
    "                scheduler.step(1-recall)\n",
    "                val_loss_list.append(epoch_loss)\n",
    "                val_acc_list.append(epoch_acc.cpu().numpy())\n",
    "                print(mix_cnt, cut_cnt)\n",
    "                mix_cnt = 0\n",
    "                cut_cnt = 0\n",
    "                \n",
    "                \n",
    "                print('valid recall score is {:.3f}'.format(recall))\n",
    "                recall_list.append(recall)\n",
    "\n",
    "        \n",
    "    time_elapsed = time.time() - since\n",
    "    print('Training complete in {:.0f}m {:.0f}s'.format(\n",
    "        time_elapsed // 60, time_elapsed % 60))\n",
    "    print('Best val Recall: {:4f}'.format(best_recall))\n",
    "\n",
    "    # load best model weights\n",
    "    model.load_state_dict(best_model_wts)\n",
    "    if not DEBUG:\n",
    "        if not os.path.exists(f'{LOG_DIR}/log_{MODEL_NAME}_{VER}.csv'):\n",
    "            log = pd.DataFrame()\n",
    "            log['Epoch'] = epoch_list\n",
    "            log['Train Loss'] = trn_loss_list\n",
    "            log['Train Acc'] = trn_acc_list\n",
    "            log['Valid Loss'] = val_loss_list\n",
    "            log['Valid Acc'] = val_acc_list\n",
    "            log['Recall'] = recall_list\n",
    "            log.to_csv(f'{LOG_DIR}/log_{MODEL_NAME}_{VER}.csv',index=False)\n",
    "        else:\n",
    "            log = pd.DataFrame()\n",
    "            log['Epoch'] = epoch_list\n",
    "            log['Train Loss'] = trn_loss_list\n",
    "            log['Train Acc'] = trn_acc_list\n",
    "            log['Valid Loss'] = val_loss_list\n",
    "            log['Valid Acc'] = val_acc_list\n",
    "            log['Recall'] = recall_list\n",
    "            log_old = pd.read_csv(f'{LOG_DIR}/log_{MODEL_NAME}_{VER}.csv')\n",
    "            LOG = pd.concat([log_old, log], axis=0)\n",
    "            LOG.reset_index(drop=True, inplace=True)\n",
    "            LOG.to_csv(f'{LOG_DIR}/log_{MODEL_NAME}_{VER}.csv',index=False)\n",
    "    return model, best_epoch"
   ]
  },
  {
   "cell_type": "code",
   "execution_count": 20,
   "metadata": {
    "code_folding": []
   },
   "outputs": [],
   "source": [
    "class bengali_model(nn.Module):\n",
    "    def __init__(self, num_classes1, num_classes2, num_classes3):\n",
    "        super(bengali_model, self).__init__()\n",
    "        #pretrain models\n",
    "        #self.model = pretrainedmodels.__dict__[MODEL_NAME](pretrained=None)\n",
    "        #num_ftrs = self.model.last_linear.in_features\n",
    "        #self.model.last_linear = nn.Identity()\n",
    "        \n",
    "        # EfficientNet\n",
    "        self.model = EfficientNet.from_pretrained(MODEL_NAME)\n",
    "        num_ftrs = 1792\n",
    "        \n",
    "        self.fc1 = nn.Linear(num_ftrs, num_classes1)\n",
    "        self.fc2 = nn.Linear(num_ftrs, num_classes2)\n",
    "        self.fc3 = nn.Linear(num_ftrs, num_classes3)\n",
    "\n",
    "    def forward(self, x):\n",
    "        #x = self.model(x) #pretrain models\n",
    "        bs, _, _, _ = x.shape\n",
    "        x = self.model.extract_features(x)\n",
    "        x = F.adaptive_avg_pool2d(x, 1).reshape(bs, -1)\n",
    "        out1 = self.fc1(x)\n",
    "        out2 = self.fc2(x)\n",
    "        out3 = self.fc3(x)\n",
    "        return out1, out2, out3"
   ]
  },
  {
   "cell_type": "code",
   "execution_count": 26,
   "metadata": {},
   "outputs": [
    {
     "name": "stdout",
     "output_type": "stream",
     "text": [
      "Loaded pretrained weights for efficientnet-b4\n"
     ]
    }
   ],
   "source": [
    "# --- Model --- Stage 1\n",
    "model_ft = bengali_model(n_grapheme, n_vowel, n_consonant)\n",
    "model_ft = model_ft.to(DEVICE)\n",
    "\n",
    "#criterion = nn.BCEWithLogitsLoss()\n",
    "criterion = nn.CrossEntropyLoss()\n",
    "optimizer = torch.optim.Adam(model_ft.parameters(), lr=0.001)\n",
    "scheduler = torch.optim.lr_scheduler.ReduceLROnPlateau(\n",
    "    optimizer, mode='min', factor=0.5, patience=2, min_lr=1e-10, verbose=True)"
   ]
  },
  {
   "cell_type": "code",
   "execution_count": 40,
   "metadata": {},
   "outputs": [
    {
     "data": {
      "text/plain": [
       "20"
      ]
     },
     "execution_count": 40,
     "metadata": {},
     "output_type": "execute_result"
    }
   ],
   "source": [
    "torch.cuda.empty_cache()\n",
    "gc.collect()"
   ]
  },
  {
   "cell_type": "code",
   "execution_count": null,
   "metadata": {
    "collapsed": true
   },
   "outputs": [
    {
     "name": "stdout",
     "output_type": "stream",
     "text": [
      "Epoch 1/48\n",
      "------------------------------\n"
     ]
    },
    {
     "data": {
      "application/vnd.jupyter.widget-view+json": {
       "model_id": "33440087a29a44eda98376bc971ad370",
       "version_major": 2,
       "version_minor": 0
      },
      "text/plain": [
       "HBox(children=(FloatProgress(value=0.0, max=2825.0), HTML(value='')))"
      ]
     },
     "metadata": {},
     "output_type": "display_data"
    },
    {
     "name": "stdout",
     "output_type": "stream",
     "text": [
      "\n",
      "train Loss: 1.8916 Acc: 0.6580\n"
     ]
    },
    {
     "name": "stderr",
     "output_type": "stream",
     "text": [
      "/home/ryoooo1114/anaconda3/envs/analysis/lib/python3.7/site-packages/sklearn/metrics/_classification.py:1272: UndefinedMetricWarning: Recall is ill-defined and being set to 0.0 in labels with no true samples. Use `zero_division` parameter to control this behavior.\n",
      "  _warn_prf(average, modifier, msg_start, len(result))\n"
     ]
    },
    {
     "data": {
      "application/vnd.jupyter.widget-view+json": {
       "model_id": "2de2886a71364e48833b7b04c32806f9",
       "version_major": 2,
       "version_minor": 0
      },
      "text/plain": [
       "HBox(children=(FloatProgress(value=0.0, max=314.0), HTML(value='')))"
      ]
     },
     "metadata": {},
     "output_type": "display_data"
    },
    {
     "name": "stdout",
     "output_type": "stream",
     "text": [
      "\n",
      "val Loss: 0.5840 Acc: 0.8602\n",
      "211 212\n",
      "valid recall score is 0.658\n",
      "Epoch 2/48\n",
      "------------------------------\n"
     ]
    },
    {
     "data": {
      "application/vnd.jupyter.widget-view+json": {
       "model_id": "cc70d5a08d954dd48f4b8effa248c62f",
       "version_major": 2,
       "version_minor": 0
      },
      "text/plain": [
       "HBox(children=(FloatProgress(value=0.0, max=2825.0), HTML(value='')))"
      ]
     },
     "metadata": {},
     "output_type": "display_data"
    },
    {
     "name": "stdout",
     "output_type": "stream",
     "text": [
      "\n",
      "train Loss: 1.0252 Acc: 0.8310\n"
     ]
    },
    {
     "data": {
      "application/vnd.jupyter.widget-view+json": {
       "model_id": "2026bd307d9b48d497c18aa63e2b67e1",
       "version_major": 2,
       "version_minor": 0
      },
      "text/plain": [
       "HBox(children=(FloatProgress(value=0.0, max=314.0), HTML(value='')))"
      ]
     },
     "metadata": {},
     "output_type": "display_data"
    },
    {
     "name": "stdout",
     "output_type": "stream",
     "text": [
      "\n",
      "val Loss: 0.2960 Acc: 0.9289\n",
      "0.8287037037037037\n",
      "211 212\n",
      "valid recall score is 0.829\n",
      "Epoch 3/48\n",
      "------------------------------\n"
     ]
    },
    {
     "data": {
      "application/vnd.jupyter.widget-view+json": {
       "model_id": "2a74995ddb2c4dcb9b688098fc7cdcd7",
       "version_major": 2,
       "version_minor": 0
      },
      "text/plain": [
       "HBox(children=(FloatProgress(value=0.0, max=2825.0), HTML(value='')))"
      ]
     },
     "metadata": {},
     "output_type": "display_data"
    },
    {
     "name": "stdout",
     "output_type": "stream",
     "text": [
      "\n",
      "train Loss: 0.7788 Acc: 0.8743\n"
     ]
    },
    {
     "data": {
      "application/vnd.jupyter.widget-view+json": {
       "model_id": "6491eeacaf1249c29acec8eb9f58aff9",
       "version_major": 2,
       "version_minor": 0
      },
      "text/plain": [
       "HBox(children=(FloatProgress(value=0.0, max=314.0), HTML(value='')))"
      ]
     },
     "metadata": {},
     "output_type": "display_data"
    },
    {
     "name": "stdout",
     "output_type": "stream",
     "text": [
      "\n",
      "val Loss: 0.2084 Acc: 0.9480\n",
      "Early stopping counter: 1\n",
      "211 212\n",
      "valid recall score is 0.829\n",
      "Epoch 4/48\n",
      "------------------------------\n"
     ]
    },
    {
     "data": {
      "application/vnd.jupyter.widget-view+json": {
       "model_id": "0962307aed43456c84394261c8d72151",
       "version_major": 2,
       "version_minor": 0
      },
      "text/plain": [
       "HBox(children=(FloatProgress(value=0.0, max=2825.0), HTML(value='')))"
      ]
     },
     "metadata": {},
     "output_type": "display_data"
    },
    {
     "name": "stdout",
     "output_type": "stream",
     "text": [
      "\n",
      "train Loss: 0.7115 Acc: 0.8920\n"
     ]
    },
    {
     "data": {
      "application/vnd.jupyter.widget-view+json": {
       "model_id": "b6aca96dc70c4e968842dec28861bf10",
       "version_major": 2,
       "version_minor": 0
      },
      "text/plain": [
       "HBox(children=(FloatProgress(value=0.0, max=314.0), HTML(value='')))"
      ]
     },
     "metadata": {},
     "output_type": "display_data"
    },
    {
     "name": "stdout",
     "output_type": "stream",
     "text": [
      "\n",
      "val Loss: 0.1808 Acc: 0.9548\n",
      "0.8398148148148148\n",
      "211 212\n",
      "valid recall score is 0.840\n",
      "Epoch 5/48\n",
      "------------------------------\n"
     ]
    },
    {
     "data": {
      "application/vnd.jupyter.widget-view+json": {
       "model_id": "e3b57ecd4ac34ba39901eb82b2dd99c8",
       "version_major": 2,
       "version_minor": 0
      },
      "text/plain": [
       "HBox(children=(FloatProgress(value=0.0, max=2825.0), HTML(value='')))"
      ]
     },
     "metadata": {},
     "output_type": "display_data"
    },
    {
     "name": "stdout",
     "output_type": "stream",
     "text": [
      "\n",
      "train Loss: 0.6669 Acc: 0.8966\n"
     ]
    },
    {
     "data": {
      "application/vnd.jupyter.widget-view+json": {
       "model_id": "a13ecdb4694149318e7da5a03a3f8dcb",
       "version_major": 2,
       "version_minor": 0
      },
      "text/plain": [
       "HBox(children=(FloatProgress(value=0.0, max=314.0), HTML(value='')))"
      ]
     },
     "metadata": {},
     "output_type": "display_data"
    },
    {
     "name": "stdout",
     "output_type": "stream",
     "text": [
      "\n",
      "val Loss: 0.1641 Acc: 0.9594\n",
      "0.8817829457364341\n",
      "211 212\n",
      "valid recall score is 0.882\n",
      "Epoch 6/48\n",
      "------------------------------\n"
     ]
    },
    {
     "data": {
      "application/vnd.jupyter.widget-view+json": {
       "model_id": "5a532f43034f45708c1a5d48a54cc2bf",
       "version_major": 2,
       "version_minor": 0
      },
      "text/plain": [
       "HBox(children=(FloatProgress(value=0.0, max=2825.0), HTML(value='')))"
      ]
     },
     "metadata": {},
     "output_type": "display_data"
    },
    {
     "name": "stdout",
     "output_type": "stream",
     "text": [
      "\n",
      "train Loss: 0.5743 Acc: 0.9061\n"
     ]
    },
    {
     "data": {
      "application/vnd.jupyter.widget-view+json": {
       "model_id": "7f3c95aa7e0b458aa7c5ce88e5194ad2",
       "version_major": 2,
       "version_minor": 0
      },
      "text/plain": [
       "HBox(children=(FloatProgress(value=0.0, max=314.0), HTML(value='')))"
      ]
     },
     "metadata": {},
     "output_type": "display_data"
    },
    {
     "name": "stdout",
     "output_type": "stream",
     "text": [
      "\n",
      "val Loss: 0.1392 Acc: 0.9631\n",
      "0.8992248062015503\n",
      "211 212\n",
      "valid recall score is 0.899\n",
      "Epoch 7/48\n",
      "------------------------------\n"
     ]
    },
    {
     "data": {
      "application/vnd.jupyter.widget-view+json": {
       "model_id": "db3093fd61e8468796ba7002d889dabf",
       "version_major": 2,
       "version_minor": 0
      },
      "text/plain": [
       "HBox(children=(FloatProgress(value=0.0, max=2825.0), HTML(value='')))"
      ]
     },
     "metadata": {},
     "output_type": "display_data"
    },
    {
     "name": "stdout",
     "output_type": "stream",
     "text": [
      "\n",
      "train Loss: 0.5414 Acc: 0.9103\n"
     ]
    },
    {
     "data": {
      "application/vnd.jupyter.widget-view+json": {
       "model_id": "50c33ba367cc424aa09bedcabe41487e",
       "version_major": 2,
       "version_minor": 0
      },
      "text/plain": [
       "HBox(children=(FloatProgress(value=0.0, max=314.0), HTML(value='')))"
      ]
     },
     "metadata": {},
     "output_type": "display_data"
    },
    {
     "name": "stdout",
     "output_type": "stream",
     "text": [
      "\n",
      "val Loss: 0.1246 Acc: 0.9646\n",
      "0.9349593495934959\n",
      "211 212\n",
      "valid recall score is 0.935\n",
      "Epoch 8/48\n",
      "------------------------------\n"
     ]
    },
    {
     "data": {
      "application/vnd.jupyter.widget-view+json": {
       "model_id": "e68b42e6e0624c09a910271218cfb27f",
       "version_major": 2,
       "version_minor": 0
      },
      "text/plain": [
       "HBox(children=(FloatProgress(value=0.0, max=2825.0), HTML(value='')))"
      ]
     },
     "metadata": {},
     "output_type": "display_data"
    },
    {
     "name": "stdout",
     "output_type": "stream",
     "text": [
      "\n",
      "train Loss: 0.5062 Acc: 0.9182\n"
     ]
    },
    {
     "data": {
      "application/vnd.jupyter.widget-view+json": {
       "model_id": "16e0a5d9edab4963ae4fb1034d7c1add",
       "version_major": 2,
       "version_minor": 0
      },
      "text/plain": [
       "HBox(children=(FloatProgress(value=0.0, max=314.0), HTML(value='')))"
      ]
     },
     "metadata": {},
     "output_type": "display_data"
    },
    {
     "name": "stdout",
     "output_type": "stream",
     "text": [
      "\n",
      "val Loss: 0.1185 Acc: 0.9662\n",
      "Early stopping counter: 1\n",
      "211 212\n",
      "valid recall score is 0.935\n",
      "Epoch 9/48\n",
      "------------------------------\n"
     ]
    },
    {
     "data": {
      "application/vnd.jupyter.widget-view+json": {
       "model_id": "ae05c8696ebe471e9fd3a239897eda13",
       "version_major": 2,
       "version_minor": 0
      },
      "text/plain": [
       "HBox(children=(FloatProgress(value=0.0, max=2825.0), HTML(value='')))"
      ]
     },
     "metadata": {},
     "output_type": "display_data"
    },
    {
     "name": "stdout",
     "output_type": "stream",
     "text": [
      "\n",
      "train Loss: 0.4825 Acc: 0.9204\n"
     ]
    },
    {
     "data": {
      "application/vnd.jupyter.widget-view+json": {
       "model_id": "ab86e21235014cf19e42ff19f54ae177",
       "version_major": 2,
       "version_minor": 0
      },
      "text/plain": [
       "HBox(children=(FloatProgress(value=0.0, max=314.0), HTML(value='')))"
      ]
     },
     "metadata": {},
     "output_type": "display_data"
    },
    {
     "name": "stdout",
     "output_type": "stream",
     "text": [
      "\n",
      "val Loss: 0.1125 Acc: 0.9684\n",
      "0.95\n",
      "211 212\n",
      "valid recall score is 0.950\n",
      "Epoch 10/48\n",
      "------------------------------\n"
     ]
    },
    {
     "data": {
      "application/vnd.jupyter.widget-view+json": {
       "model_id": "de2329d1a3f84bc18996818cd0944681",
       "version_major": 2,
       "version_minor": 0
      },
      "text/plain": [
       "HBox(children=(FloatProgress(value=0.0, max=2825.0), HTML(value='')))"
      ]
     },
     "metadata": {},
     "output_type": "display_data"
    },
    {
     "name": "stdout",
     "output_type": "stream",
     "text": [
      "\n",
      "train Loss: 0.4633 Acc: 0.9233\n"
     ]
    },
    {
     "data": {
      "application/vnd.jupyter.widget-view+json": {
       "model_id": "06446ce604704a4b972076ec5c338e79",
       "version_major": 2,
       "version_minor": 0
      },
      "text/plain": [
       "HBox(children=(FloatProgress(value=0.0, max=314.0), HTML(value='')))"
      ]
     },
     "metadata": {},
     "output_type": "display_data"
    },
    {
     "name": "stdout",
     "output_type": "stream",
     "text": [
      "\n",
      "val Loss: 0.1109 Acc: 0.9687\n",
      "Early stopping counter: 1\n",
      "211 212\n",
      "valid recall score is 0.909\n",
      "Epoch 11/48\n",
      "------------------------------\n"
     ]
    },
    {
     "data": {
      "application/vnd.jupyter.widget-view+json": {
       "model_id": "c235ce620cbc431390b34ade31e62c7f",
       "version_major": 2,
       "version_minor": 0
      },
      "text/plain": [
       "HBox(children=(FloatProgress(value=0.0, max=2825.0), HTML(value='')))"
      ]
     },
     "metadata": {},
     "output_type": "display_data"
    },
    {
     "name": "stdout",
     "output_type": "stream",
     "text": [
      "\n",
      "train Loss: 0.4529 Acc: 0.9230\n"
     ]
    },
    {
     "data": {
      "application/vnd.jupyter.widget-view+json": {
       "model_id": "2c35dfe70451458fbaefdb193f830855",
       "version_major": 2,
       "version_minor": 0
      },
      "text/plain": [
       "HBox(children=(FloatProgress(value=0.0, max=314.0), HTML(value='')))"
      ]
     },
     "metadata": {},
     "output_type": "display_data"
    },
    {
     "name": "stdout",
     "output_type": "stream",
     "text": [
      "\n",
      "val Loss: 0.1065 Acc: 0.9699\n",
      "Early stopping counter: 2\n",
      "211 212\n",
      "valid recall score is 0.917\n",
      "Epoch 12/48\n",
      "------------------------------\n"
     ]
    },
    {
     "data": {
      "application/vnd.jupyter.widget-view+json": {
       "model_id": "31dc773bd8384a92baa9ac6cb702a70d",
       "version_major": 2,
       "version_minor": 0
      },
      "text/plain": [
       "HBox(children=(FloatProgress(value=0.0, max=2825.0), HTML(value='')))"
      ]
     },
     "metadata": {},
     "output_type": "display_data"
    },
    {
     "name": "stdout",
     "output_type": "stream",
     "text": [
      "\n",
      "train Loss: 0.4448 Acc: 0.9261\n"
     ]
    },
    {
     "data": {
      "application/vnd.jupyter.widget-view+json": {
       "model_id": "abb77bbbe2e84c93b833bac40c2c8ce2",
       "version_major": 2,
       "version_minor": 0
      },
      "text/plain": [
       "HBox(children=(FloatProgress(value=0.0, max=314.0), HTML(value='')))"
      ]
     },
     "metadata": {},
     "output_type": "display_data"
    },
    {
     "name": "stdout",
     "output_type": "stream",
     "text": [
      "\n",
      "val Loss: 0.1049 Acc: 0.9704\n",
      "0.9520833333333333\n",
      "211 212\n",
      "valid recall score is 0.952\n",
      "Epoch 13/48\n",
      "------------------------------\n"
     ]
    },
    {
     "data": {
      "application/vnd.jupyter.widget-view+json": {
       "model_id": "c7911e89f15e4bd8b3c73d970ba3f1c2",
       "version_major": 2,
       "version_minor": 0
      },
      "text/plain": [
       "HBox(children=(FloatProgress(value=0.0, max=2825.0), HTML(value='')))"
      ]
     },
     "metadata": {},
     "output_type": "display_data"
    },
    {
     "name": "stdout",
     "output_type": "stream",
     "text": [
      "\n",
      "train Loss: 0.4434 Acc: 0.9295\n"
     ]
    },
    {
     "data": {
      "application/vnd.jupyter.widget-view+json": {
       "model_id": "91a93f6e4c3e4863bd6da902cddad9b2",
       "version_major": 2,
       "version_minor": 0
      },
      "text/plain": [
       "HBox(children=(FloatProgress(value=0.0, max=314.0), HTML(value='')))"
      ]
     },
     "metadata": {},
     "output_type": "display_data"
    },
    {
     "name": "stdout",
     "output_type": "stream",
     "text": [
      "\n",
      "val Loss: 0.1029 Acc: 0.9712\n",
      "0.967948717948718\n",
      "211 212\n",
      "valid recall score is 0.968\n",
      "Epoch 14/48\n",
      "------------------------------\n"
     ]
    },
    {
     "data": {
      "application/vnd.jupyter.widget-view+json": {
       "model_id": "eb3ddb3942d443afa00ca9fdd9eec2f6",
       "version_major": 2,
       "version_minor": 0
      },
      "text/plain": [
       "HBox(children=(FloatProgress(value=0.0, max=2825.0), HTML(value='')))"
      ]
     },
     "metadata": {},
     "output_type": "display_data"
    },
    {
     "name": "stdout",
     "output_type": "stream",
     "text": [
      "\n",
      "train Loss: 0.4467 Acc: 0.9278\n"
     ]
    },
    {
     "data": {
      "application/vnd.jupyter.widget-view+json": {
       "model_id": "f615b4d415084c33bb038f9c6b4710a0",
       "version_major": 2,
       "version_minor": 0
      },
      "text/plain": [
       "HBox(children=(FloatProgress(value=0.0, max=314.0), HTML(value='')))"
      ]
     },
     "metadata": {},
     "output_type": "display_data"
    },
    {
     "name": "stdout",
     "output_type": "stream",
     "text": [
      "\n",
      "val Loss: 0.1022 Acc: 0.9718\n",
      "Early stopping counter: 1\n",
      "211 212\n",
      "valid recall score is 0.952\n",
      "Epoch 15/48\n",
      "------------------------------\n"
     ]
    },
    {
     "data": {
      "application/vnd.jupyter.widget-view+json": {
       "model_id": "dd79aaa0a71542e2be12a5209c5c7384",
       "version_major": 2,
       "version_minor": 0
      },
      "text/plain": [
       "HBox(children=(FloatProgress(value=0.0, max=2825.0), HTML(value='')))"
      ]
     },
     "metadata": {},
     "output_type": "display_data"
    },
    {
     "name": "stdout",
     "output_type": "stream",
     "text": [
      "\n",
      "train Loss: 0.4346 Acc: 0.9286\n"
     ]
    },
    {
     "data": {
      "application/vnd.jupyter.widget-view+json": {
       "model_id": "ab34fb6c20014883b8217f9eaf74fcf0",
       "version_major": 2,
       "version_minor": 0
      },
      "text/plain": [
       "HBox(children=(FloatProgress(value=0.0, max=314.0), HTML(value='')))"
      ]
     },
     "metadata": {},
     "output_type": "display_data"
    },
    {
     "name": "stdout",
     "output_type": "stream",
     "text": [
      "\n",
      "val Loss: 0.1026 Acc: 0.9716\n",
      "Early stopping counter: 2\n",
      "211 212\n",
      "valid recall score is 0.929\n",
      "Epoch 16/48\n",
      "------------------------------\n"
     ]
    },
    {
     "data": {
      "application/vnd.jupyter.widget-view+json": {
       "model_id": "16da3d6f05fc4a3abbcdccf93896f1ea",
       "version_major": 2,
       "version_minor": 0
      },
      "text/plain": [
       "HBox(children=(FloatProgress(value=0.0, max=2825.0), HTML(value='')))"
      ]
     },
     "metadata": {},
     "output_type": "display_data"
    }
   ],
   "source": [
    "model_ft, best_epoch = train_model(model_ft, dataloaders, criterion, optimizer, scheduler,0, NUM_EPOCH, DEVICE, PATIAENCE)"
   ]
  },
  {
   "cell_type": "code",
   "execution_count": 87,
   "metadata": {},
   "outputs": [
    {
     "data": {
      "image/png": "[encoded data removed]",
      "text/plain": [
       "<Figure size 432x288 with 1 Axes>"
      ]
     },
     "metadata": {
      "needs_background": "light"
     },
     "output_type": "display_data"
    }
   ],
   "source": [
    "log = pd.read_csv(f'{LOG_DIR}/log_{MODEL_NAME}_{VER}.csv')\n",
    "sns.lineplot(x=log['Epoch'], y=log['Valid Loss'], color='blue')\n",
    "sns.lineplot(x=log['Epoch'], y=log['Train Loss'], color='red')\n",
    "#sns.lineplot(x=log['Epoch'], y=log['Recall'], color='green')\n",
    "plt.show()"
   ]
  },
  {
   "cell_type": "code",
   "execution_count": 88,
   "metadata": {},
   "outputs": [
    {
     "data": {
      "text/html": [
       "<div>\n",
       "<style scoped>\n",
       "    .dataframe tbody tr th:only-of-type {\n",
       "        vertical-align: middle;\n",
       "    }\n",
       "\n",
       "    .dataframe tbody tr th {\n",
       "        vertical-align: top;\n",
       "    }\n",
       "\n",
       "    .dataframe thead th {\n",
       "        text-align: right;\n",
       "    }\n",
       "</style>\n",
       "<table border=\"1\" class=\"dataframe\">\n",
       "  <thead>\n",
       "    <tr style=\"text-align: right;\">\n",
       "      <th></th>\n",
       "      <th>Epoch</th>\n",
       "      <th>Train Loss</th>\n",
       "      <th>Train Acc</th>\n",
       "      <th>Valid Loss</th>\n",
       "      <th>Valid Acc</th>\n",
       "      <th>Recall</th>\n",
       "    </tr>\n",
       "  </thead>\n",
       "  <tbody>\n",
       "    <tr>\n",
       "      <th>0</th>\n",
       "      <td>1</td>\n",
       "      <td>1.891603</td>\n",
       "      <td>0.658047</td>\n",
       "      <td>0.584045</td>\n",
       "      <td>0.860237</td>\n",
       "      <td>0.658109</td>\n",
       "    </tr>\n",
       "    <tr>\n",
       "      <th>1</th>\n",
       "      <td>2</td>\n",
       "      <td>1.025216</td>\n",
       "      <td>0.830978</td>\n",
       "      <td>0.296039</td>\n",
       "      <td>0.928915</td>\n",
       "      <td>0.828704</td>\n",
       "    </tr>\n",
       "    <tr>\n",
       "      <th>2</th>\n",
       "      <td>3</td>\n",
       "      <td>0.778765</td>\n",
       "      <td>0.874254</td>\n",
       "      <td>0.208433</td>\n",
       "      <td>0.948002</td>\n",
       "      <td>0.828704</td>\n",
       "    </tr>\n",
       "    <tr>\n",
       "      <th>3</th>\n",
       "      <td>4</td>\n",
       "      <td>0.711464</td>\n",
       "      <td>0.891989</td>\n",
       "      <td>0.180765</td>\n",
       "      <td>0.954840</td>\n",
       "      <td>0.839815</td>\n",
       "    </tr>\n",
       "    <tr>\n",
       "      <th>4</th>\n",
       "      <td>5</td>\n",
       "      <td>0.666884</td>\n",
       "      <td>0.896612</td>\n",
       "      <td>0.164109</td>\n",
       "      <td>0.959371</td>\n",
       "      <td>0.881783</td>\n",
       "    </tr>\n",
       "    <tr>\n",
       "      <th>5</th>\n",
       "      <td>6</td>\n",
       "      <td>0.574321</td>\n",
       "      <td>0.906074</td>\n",
       "      <td>0.139226</td>\n",
       "      <td>0.963088</td>\n",
       "      <td>0.899225</td>\n",
       "    </tr>\n",
       "    <tr>\n",
       "      <th>6</th>\n",
       "      <td>7</td>\n",
       "      <td>0.541422</td>\n",
       "      <td>0.910308</td>\n",
       "      <td>0.124557</td>\n",
       "      <td>0.964582</td>\n",
       "      <td>0.934959</td>\n",
       "    </tr>\n",
       "    <tr>\n",
       "      <th>7</th>\n",
       "      <td>8</td>\n",
       "      <td>0.506225</td>\n",
       "      <td>0.918232</td>\n",
       "      <td>0.118499</td>\n",
       "      <td>0.966192</td>\n",
       "      <td>0.934959</td>\n",
       "    </tr>\n",
       "    <tr>\n",
       "      <th>8</th>\n",
       "      <td>9</td>\n",
       "      <td>0.482486</td>\n",
       "      <td>0.920408</td>\n",
       "      <td>0.112499</td>\n",
       "      <td>0.968416</td>\n",
       "      <td>0.950000</td>\n",
       "    </tr>\n",
       "    <tr>\n",
       "      <th>9</th>\n",
       "      <td>10</td>\n",
       "      <td>0.463328</td>\n",
       "      <td>0.923326</td>\n",
       "      <td>0.110900</td>\n",
       "      <td>0.968715</td>\n",
       "      <td>0.908730</td>\n",
       "    </tr>\n",
       "    <tr>\n",
       "      <th>10</th>\n",
       "      <td>11</td>\n",
       "      <td>0.452908</td>\n",
       "      <td>0.923029</td>\n",
       "      <td>0.106531</td>\n",
       "      <td>0.969926</td>\n",
       "      <td>0.916667</td>\n",
       "    </tr>\n",
       "    <tr>\n",
       "      <th>11</th>\n",
       "      <td>12</td>\n",
       "      <td>0.444804</td>\n",
       "      <td>0.926097</td>\n",
       "      <td>0.104862</td>\n",
       "      <td>0.970374</td>\n",
       "      <td>0.952083</td>\n",
       "    </tr>\n",
       "    <tr>\n",
       "      <th>12</th>\n",
       "      <td>13</td>\n",
       "      <td>0.443432</td>\n",
       "      <td>0.929476</td>\n",
       "      <td>0.102941</td>\n",
       "      <td>0.971237</td>\n",
       "      <td>0.967949</td>\n",
       "    </tr>\n",
       "    <tr>\n",
       "      <th>13</th>\n",
       "      <td>14</td>\n",
       "      <td>0.446737</td>\n",
       "      <td>0.927820</td>\n",
       "      <td>0.102231</td>\n",
       "      <td>0.971752</td>\n",
       "      <td>0.952083</td>\n",
       "    </tr>\n",
       "    <tr>\n",
       "      <th>14</th>\n",
       "      <td>15</td>\n",
       "      <td>0.434610</td>\n",
       "      <td>0.928550</td>\n",
       "      <td>0.102579</td>\n",
       "      <td>0.971586</td>\n",
       "      <td>0.928862</td>\n",
       "    </tr>\n",
       "    <tr>\n",
       "      <th>15</th>\n",
       "      <td>16</td>\n",
       "      <td>0.434378</td>\n",
       "      <td>0.929258</td>\n",
       "      <td>0.099895</td>\n",
       "      <td>0.972515</td>\n",
       "      <td>0.967949</td>\n",
       "    </tr>\n",
       "    <tr>\n",
       "      <th>16</th>\n",
       "      <td>17</td>\n",
       "      <td>0.426633</td>\n",
       "      <td>0.931681</td>\n",
       "      <td>0.100347</td>\n",
       "      <td>0.972648</td>\n",
       "      <td>0.967949</td>\n",
       "    </tr>\n",
       "    <tr>\n",
       "      <th>17</th>\n",
       "      <td>13</td>\n",
       "      <td>0.658425</td>\n",
       "      <td>0.883768</td>\n",
       "      <td>0.172635</td>\n",
       "      <td>0.951056</td>\n",
       "      <td>0.883795</td>\n",
       "    </tr>\n",
       "    <tr>\n",
       "      <th>18</th>\n",
       "      <td>14</td>\n",
       "      <td>0.590119</td>\n",
       "      <td>0.903561</td>\n",
       "      <td>0.128630</td>\n",
       "      <td>0.963371</td>\n",
       "      <td>0.921084</td>\n",
       "    </tr>\n",
       "    <tr>\n",
       "      <th>19</th>\n",
       "      <td>15</td>\n",
       "      <td>0.512879</td>\n",
       "      <td>0.914102</td>\n",
       "      <td>0.125678</td>\n",
       "      <td>0.964400</td>\n",
       "      <td>0.944377</td>\n",
       "    </tr>\n",
       "    <tr>\n",
       "      <th>20</th>\n",
       "      <td>16</td>\n",
       "      <td>0.479847</td>\n",
       "      <td>0.917777</td>\n",
       "      <td>0.106077</td>\n",
       "      <td>0.970341</td>\n",
       "      <td>0.983333</td>\n",
       "    </tr>\n",
       "    <tr>\n",
       "      <th>21</th>\n",
       "      <td>17</td>\n",
       "      <td>0.443224</td>\n",
       "      <td>0.916838</td>\n",
       "      <td>0.114584</td>\n",
       "      <td>0.968250</td>\n",
       "      <td>0.953333</td>\n",
       "    </tr>\n",
       "    <tr>\n",
       "      <th>22</th>\n",
       "      <td>18</td>\n",
       "      <td>0.479889</td>\n",
       "      <td>0.922970</td>\n",
       "      <td>0.102724</td>\n",
       "      <td>0.971486</td>\n",
       "      <td>0.969359</td>\n",
       "    </tr>\n",
       "    <tr>\n",
       "      <th>23</th>\n",
       "      <td>19</td>\n",
       "      <td>0.437368</td>\n",
       "      <td>0.925480</td>\n",
       "      <td>0.150680</td>\n",
       "      <td>0.959902</td>\n",
       "      <td>0.963608</td>\n",
       "    </tr>\n",
       "    <tr>\n",
       "      <th>24</th>\n",
       "      <td>20</td>\n",
       "      <td>0.428586</td>\n",
       "      <td>0.927056</td>\n",
       "      <td>0.097887</td>\n",
       "      <td>0.973445</td>\n",
       "      <td>0.926250</td>\n",
       "    </tr>\n",
       "    <tr>\n",
       "      <th>25</th>\n",
       "      <td>16</td>\n",
       "      <td>0.408109</td>\n",
       "      <td>0.930553</td>\n",
       "      <td>0.068636</td>\n",
       "      <td>0.980432</td>\n",
       "      <td>0.987179</td>\n",
       "    </tr>\n",
       "    <tr>\n",
       "      <th>26</th>\n",
       "      <td>17</td>\n",
       "      <td>0.393948</td>\n",
       "      <td>0.933572</td>\n",
       "      <td>0.068065</td>\n",
       "      <td>0.981561</td>\n",
       "      <td>0.987179</td>\n",
       "    </tr>\n",
       "    <tr>\n",
       "      <th>27</th>\n",
       "      <td>18</td>\n",
       "      <td>0.372051</td>\n",
       "      <td>0.939050</td>\n",
       "      <td>0.065236</td>\n",
       "      <td>0.982474</td>\n",
       "      <td>0.982179</td>\n",
       "    </tr>\n",
       "    <tr>\n",
       "      <th>28</th>\n",
       "      <td>19</td>\n",
       "      <td>0.371830</td>\n",
       "      <td>0.939766</td>\n",
       "      <td>0.068773</td>\n",
       "      <td>0.982059</td>\n",
       "      <td>1.000000</td>\n",
       "    </tr>\n",
       "    <tr>\n",
       "      <th>29</th>\n",
       "      <td>20</td>\n",
       "      <td>0.353053</td>\n",
       "      <td>0.939165</td>\n",
       "      <td>0.069712</td>\n",
       "      <td>0.981959</td>\n",
       "      <td>1.000000</td>\n",
       "    </tr>\n",
       "    <tr>\n",
       "      <th>30</th>\n",
       "      <td>21</td>\n",
       "      <td>0.368844</td>\n",
       "      <td>0.941498</td>\n",
       "      <td>0.069893</td>\n",
       "      <td>0.982142</td>\n",
       "      <td>0.987179</td>\n",
       "    </tr>\n",
       "    <tr>\n",
       "      <th>31</th>\n",
       "      <td>22</td>\n",
       "      <td>0.357693</td>\n",
       "      <td>0.942593</td>\n",
       "      <td>0.070866</td>\n",
       "      <td>0.981959</td>\n",
       "      <td>0.987179</td>\n",
       "    </tr>\n",
       "    <tr>\n",
       "      <th>32</th>\n",
       "      <td>23</td>\n",
       "      <td>0.347846</td>\n",
       "      <td>0.944277</td>\n",
       "      <td>0.069168</td>\n",
       "      <td>0.982855</td>\n",
       "      <td>0.987179</td>\n",
       "    </tr>\n",
       "    <tr>\n",
       "      <th>33</th>\n",
       "      <td>24</td>\n",
       "      <td>0.335110</td>\n",
       "      <td>0.943237</td>\n",
       "      <td>0.072736</td>\n",
       "      <td>0.983121</td>\n",
       "      <td>0.987179</td>\n",
       "    </tr>\n",
       "    <tr>\n",
       "      <th>34</th>\n",
       "      <td>25</td>\n",
       "      <td>0.347131</td>\n",
       "      <td>0.942407</td>\n",
       "      <td>0.071004</td>\n",
       "      <td>0.982839</td>\n",
       "      <td>0.982179</td>\n",
       "    </tr>\n",
       "    <tr>\n",
       "      <th>35</th>\n",
       "      <td>19</td>\n",
       "      <td>0.203546</td>\n",
       "      <td>0.959337</td>\n",
       "      <td>0.079388</td>\n",
       "      <td>0.983353</td>\n",
       "      <td>1.000000</td>\n",
       "    </tr>\n",
       "    <tr>\n",
       "      <th>36</th>\n",
       "      <td>20</td>\n",
       "      <td>0.189060</td>\n",
       "      <td>0.956787</td>\n",
       "      <td>0.078741</td>\n",
       "      <td>0.983353</td>\n",
       "      <td>0.987179</td>\n",
       "    </tr>\n",
       "    <tr>\n",
       "      <th>37</th>\n",
       "      <td>21</td>\n",
       "      <td>0.189109</td>\n",
       "      <td>0.959822</td>\n",
       "      <td>0.080049</td>\n",
       "      <td>0.983901</td>\n",
       "      <td>0.987179</td>\n",
       "    </tr>\n",
       "    <tr>\n",
       "      <th>38</th>\n",
       "      <td>22</td>\n",
       "      <td>0.219426</td>\n",
       "      <td>0.955955</td>\n",
       "      <td>0.080570</td>\n",
       "      <td>0.983718</td>\n",
       "      <td>1.000000</td>\n",
       "    </tr>\n",
       "    <tr>\n",
       "      <th>39</th>\n",
       "      <td>23</td>\n",
       "      <td>0.201526</td>\n",
       "      <td>0.959645</td>\n",
       "      <td>0.081118</td>\n",
       "      <td>0.983619</td>\n",
       "      <td>0.987179</td>\n",
       "    </tr>\n",
       "    <tr>\n",
       "      <th>40</th>\n",
       "      <td>24</td>\n",
       "      <td>0.191422</td>\n",
       "      <td>0.961102</td>\n",
       "      <td>0.079438</td>\n",
       "      <td>0.983735</td>\n",
       "      <td>1.000000</td>\n",
       "    </tr>\n",
       "    <tr>\n",
       "      <th>41</th>\n",
       "      <td>25</td>\n",
       "      <td>0.185831</td>\n",
       "      <td>0.964075</td>\n",
       "      <td>0.080518</td>\n",
       "      <td>0.983818</td>\n",
       "      <td>0.987179</td>\n",
       "    </tr>\n",
       "    <tr>\n",
       "      <th>42</th>\n",
       "      <td>26</td>\n",
       "      <td>0.207386</td>\n",
       "      <td>0.961724</td>\n",
       "      <td>0.079431</td>\n",
       "      <td>0.983768</td>\n",
       "      <td>1.000000</td>\n",
       "    </tr>\n",
       "    <tr>\n",
       "      <th>43</th>\n",
       "      <td>21</td>\n",
       "      <td>0.186489</td>\n",
       "      <td>0.961126</td>\n",
       "      <td>0.078401</td>\n",
       "      <td>0.983868</td>\n",
       "      <td>0.987179</td>\n",
       "    </tr>\n",
       "    <tr>\n",
       "      <th>44</th>\n",
       "      <td>22</td>\n",
       "      <td>0.183870</td>\n",
       "      <td>0.961010</td>\n",
       "      <td>0.079045</td>\n",
       "      <td>0.983851</td>\n",
       "      <td>0.987179</td>\n",
       "    </tr>\n",
       "    <tr>\n",
       "      <th>45</th>\n",
       "      <td>23</td>\n",
       "      <td>0.200221</td>\n",
       "      <td>0.960003</td>\n",
       "      <td>0.081517</td>\n",
       "      <td>0.983503</td>\n",
       "      <td>1.000000</td>\n",
       "    </tr>\n",
       "    <tr>\n",
       "      <th>46</th>\n",
       "      <td>24</td>\n",
       "      <td>0.173040</td>\n",
       "      <td>0.965325</td>\n",
       "      <td>0.082341</td>\n",
       "      <td>0.983669</td>\n",
       "      <td>0.987179</td>\n",
       "    </tr>\n",
       "    <tr>\n",
       "      <th>47</th>\n",
       "      <td>25</td>\n",
       "      <td>0.201711</td>\n",
       "      <td>0.959889</td>\n",
       "      <td>0.081127</td>\n",
       "      <td>0.983768</td>\n",
       "      <td>0.987179</td>\n",
       "    </tr>\n",
       "  </tbody>\n",
       "</table>\n",
       "</div>"
      ],
      "text/plain": [
       "    Epoch  Train Loss  Train Acc  Valid Loss  Valid Acc    Recall\n",
       "0       1    1.891603   0.658047    0.584045   0.860237  0.658109\n",
       "1       2    1.025216   0.830978    0.296039   0.928915  0.828704\n",
       "2       3    0.778765   0.874254    0.208433   0.948002  0.828704\n",
       "3       4    0.711464   0.891989    0.180765   0.954840  0.839815\n",
       "4       5    0.666884   0.896612    0.164109   0.959371  0.881783\n",
       "5       6    0.574321   0.906074    0.139226   0.963088  0.899225\n",
       "6       7    0.541422   0.910308    0.124557   0.964582  0.934959\n",
       "7       8    0.506225   0.918232    0.118499   0.966192  0.934959\n",
       "8       9    0.482486   0.920408    0.112499   0.968416  0.950000\n",
       "9      10    0.463328   0.923326    0.110900   0.968715  0.908730\n",
       "10     11    0.452908   0.923029    0.106531   0.969926  0.916667\n",
       "11     12    0.444804   0.926097    0.104862   0.970374  0.952083\n",
       "12     13    0.443432   0.929476    0.102941   0.971237  0.967949\n",
       "13     14    0.446737   0.927820    0.102231   0.971752  0.952083\n",
       "14     15    0.434610   0.928550    0.102579   0.971586  0.928862\n",
       "15     16    0.434378   0.929258    0.099895   0.972515  0.967949\n",
       "16     17    0.426633   0.931681    0.100347   0.972648  0.967949\n",
       "17     13    0.658425   0.883768    0.172635   0.951056  0.883795\n",
       "18     14    0.590119   0.903561    0.128630   0.963371  0.921084\n",
       "19     15    0.512879   0.914102    0.125678   0.964400  0.944377\n",
       "20     16    0.479847   0.917777    0.106077   0.970341  0.983333\n",
       "21     17    0.443224   0.916838    0.114584   0.968250  0.953333\n",
       "22     18    0.479889   0.922970    0.102724   0.971486  0.969359\n",
       "23     19    0.437368   0.925480    0.150680   0.959902  0.963608\n",
       "24     20    0.428586   0.927056    0.097887   0.973445  0.926250\n",
       "25     16    0.408109   0.930553    0.068636   0.980432  0.987179\n",
       "26     17    0.393948   0.933572    0.068065   0.981561  0.987179\n",
       "27     18    0.372051   0.939050    0.065236   0.982474  0.982179\n",
       "28     19    0.371830   0.939766    0.068773   0.982059  1.000000\n",
       "29     20    0.353053   0.939165    0.069712   0.981959  1.000000\n",
       "30     21    0.368844   0.941498    0.069893   0.982142  0.987179\n",
       "31     22    0.357693   0.942593    0.070866   0.981959  0.987179\n",
       "32     23    0.347846   0.944277    0.069168   0.982855  0.987179\n",
       "33     24    0.335110   0.943237    0.072736   0.983121  0.987179\n",
       "34     25    0.347131   0.942407    0.071004   0.982839  0.982179\n",
       "35     19    0.203546   0.959337    0.079388   0.983353  1.000000\n",
       "36     20    0.189060   0.956787    0.078741   0.983353  0.987179\n",
       "37     21    0.189109   0.959822    0.080049   0.983901  0.987179\n",
       "38     22    0.219426   0.955955    0.080570   0.983718  1.000000\n",
       "39     23    0.201526   0.959645    0.081118   0.983619  0.987179\n",
       "40     24    0.191422   0.961102    0.079438   0.983735  1.000000\n",
       "41     25    0.185831   0.964075    0.080518   0.983818  0.987179\n",
       "42     26    0.207386   0.961724    0.079431   0.983768  1.000000\n",
       "43     21    0.186489   0.961126    0.078401   0.983868  0.987179\n",
       "44     22    0.183870   0.961010    0.079045   0.983851  0.987179\n",
       "45     23    0.200221   0.960003    0.081517   0.983503  1.000000\n",
       "46     24    0.173040   0.965325    0.082341   0.983669  0.987179\n",
       "47     25    0.201711   0.959889    0.081127   0.983768  0.987179"
      ]
     },
     "execution_count": 88,
     "metadata": {},
     "output_type": "execute_result"
    }
   ],
   "source": [
    "log"
   ]
  },
  {
   "cell_type": "code",
   "execution_count": 46,
   "metadata": {},
   "outputs": [],
   "source": [
    "# --- Model --- Stage 2\n",
    "\n",
    "model_ft = model_ft.to(DEVICE)\n",
    "\n",
    "save_path = f'{MDL_DIR}/{MODEL_NAME}_{VER}/{MODEL_NAME}_'+str(best_epoch+1)+'.pth'\n",
    "load_weights = torch.load(save_path)\n",
    "model_ft.load_state_dict(load_weights)\n",
    "\n",
    "#criterion = nn.BCEWithLogitsLoss()\n",
    "criterion = nn.CrossEntropyLoss()\n",
    "optimizer = torch.optim.Adam(model_ft.parameters(), lr=0.0005)\n",
    "\n",
    "scheduler = torch.optim.lr_scheduler.ReduceLROnPlateau(\n",
    "    optimizer, mode='min', factor=0.7, patience=2, min_lr=1e-10, verbose=True)"
   ]
  },
  {
   "cell_type": "code",
   "execution_count": 48,
   "metadata": {
    "collapsed": true
   },
   "outputs": [
    {
     "name": "stdout",
     "output_type": "stream",
     "text": [
      "Epoch 13/48\n",
      "------------------------------\n"
     ]
    },
    {
     "data": {
      "application/vnd.jupyter.widget-view+json": {
       "model_id": "a1478a75401a4620a070bfd72caf38e6",
       "version_major": 2,
       "version_minor": 0
      },
      "text/plain": [
       "HBox(children=(FloatProgress(value=0.0, max=2825.0), HTML(value='')))"
      ]
     },
     "metadata": {},
     "output_type": "display_data"
    },
    {
     "name": "stdout",
     "output_type": "stream",
     "text": [
      "\n",
      "train Loss: 0.6584 Acc: 0.8838\n"
     ]
    },
    {
     "name": "stderr",
     "output_type": "stream",
     "text": [
      "/home/ryoooo1114/anaconda3/envs/analysis/lib/python3.7/site-packages/sklearn/metrics/_classification.py:1272: UndefinedMetricWarning: Recall is ill-defined and being set to 0.0 in labels with no true samples. Use `zero_division` parameter to control this behavior.\n",
      "  _warn_prf(average, modifier, msg_start, len(result))\n"
     ]
    },
    {
     "data": {
      "application/vnd.jupyter.widget-view+json": {
       "model_id": "994ace2d8fb54ff8818371ffeb257703",
       "version_major": 2,
       "version_minor": 0
      },
      "text/plain": [
       "HBox(children=(FloatProgress(value=0.0, max=314.0), HTML(value='')))"
      ]
     },
     "metadata": {},
     "output_type": "display_data"
    },
    {
     "name": "stdout",
     "output_type": "stream",
     "text": [
      "\n",
      "val Loss: 0.1726 Acc: 0.9511\n",
      "211 212\n",
      "valid recall score is 0.884\n",
      "Epoch 14/48\n",
      "------------------------------\n"
     ]
    },
    {
     "data": {
      "application/vnd.jupyter.widget-view+json": {
       "model_id": "425d7d0618894e628abf4f8c4bee625d",
       "version_major": 2,
       "version_minor": 0
      },
      "text/plain": [
       "HBox(children=(FloatProgress(value=0.0, max=2825.0), HTML(value='')))"
      ]
     },
     "metadata": {},
     "output_type": "display_data"
    },
    {
     "name": "stdout",
     "output_type": "stream",
     "text": [
      "\n",
      "train Loss: 0.5901 Acc: 0.9036\n"
     ]
    },
    {
     "data": {
      "application/vnd.jupyter.widget-view+json": {
       "model_id": "b735ed69985f4aa3979f52468ef4645e",
       "version_major": 2,
       "version_minor": 0
      },
      "text/plain": [
       "HBox(children=(FloatProgress(value=0.0, max=314.0), HTML(value='')))"
      ]
     },
     "metadata": {},
     "output_type": "display_data"
    },
    {
     "name": "stdout",
     "output_type": "stream",
     "text": [
      "\n",
      "val Loss: 0.1286 Acc: 0.9634\n",
      "0.9210840108401085\n",
      "211 212\n",
      "valid recall score is 0.921\n",
      "Epoch 15/48\n",
      "------------------------------\n"
     ]
    },
    {
     "data": {
      "application/vnd.jupyter.widget-view+json": {
       "model_id": "0b3322f0f0734c878fdf59c7f48c1f25",
       "version_major": 2,
       "version_minor": 0
      },
      "text/plain": [
       "HBox(children=(FloatProgress(value=0.0, max=2825.0), HTML(value='')))"
      ]
     },
     "metadata": {},
     "output_type": "display_data"
    },
    {
     "name": "stdout",
     "output_type": "stream",
     "text": [
      "\n",
      "train Loss: 0.5129 Acc: 0.9141\n"
     ]
    },
    {
     "data": {
      "application/vnd.jupyter.widget-view+json": {
       "model_id": "3f51937ae5d7400fa4ec94e3d4d19583",
       "version_major": 2,
       "version_minor": 0
      },
      "text/plain": [
       "HBox(children=(FloatProgress(value=0.0, max=314.0), HTML(value='')))"
      ]
     },
     "metadata": {},
     "output_type": "display_data"
    },
    {
     "name": "stdout",
     "output_type": "stream",
     "text": [
      "\n",
      "val Loss: 0.1257 Acc: 0.9644\n",
      "0.9443766937669377\n",
      "211 212\n",
      "valid recall score is 0.944\n",
      "Epoch 16/48\n",
      "------------------------------\n"
     ]
    },
    {
     "data": {
      "application/vnd.jupyter.widget-view+json": {
       "model_id": "c3b191c5cf6d4358b210b1332751c2ce",
       "version_major": 2,
       "version_minor": 0
      },
      "text/plain": [
       "HBox(children=(FloatProgress(value=0.0, max=2825.0), HTML(value='')))"
      ]
     },
     "metadata": {},
     "output_type": "display_data"
    },
    {
     "name": "stdout",
     "output_type": "stream",
     "text": [
      "\n",
      "train Loss: 0.4798 Acc: 0.9178\n"
     ]
    },
    {
     "data": {
      "application/vnd.jupyter.widget-view+json": {
       "model_id": "819668179be646e4888acacbcc6e71be",
       "version_major": 2,
       "version_minor": 0
      },
      "text/plain": [
       "HBox(children=(FloatProgress(value=0.0, max=314.0), HTML(value='')))"
      ]
     },
     "metadata": {},
     "output_type": "display_data"
    },
    {
     "name": "stdout",
     "output_type": "stream",
     "text": [
      "\n",
      "val Loss: 0.1061 Acc: 0.9703\n",
      "0.9833333333333334\n",
      "211 212\n",
      "valid recall score is 0.983\n",
      "Epoch 17/48\n",
      "------------------------------\n"
     ]
    },
    {
     "data": {
      "application/vnd.jupyter.widget-view+json": {
       "model_id": "c5d5e658193a4c138ca4829e0856bf51",
       "version_major": 2,
       "version_minor": 0
      },
      "text/plain": [
       "HBox(children=(FloatProgress(value=0.0, max=2825.0), HTML(value='')))"
      ]
     },
     "metadata": {},
     "output_type": "display_data"
    },
    {
     "name": "stdout",
     "output_type": "stream",
     "text": [
      "\n",
      "train Loss: 0.4432 Acc: 0.9168\n"
     ]
    },
    {
     "data": {
      "application/vnd.jupyter.widget-view+json": {
       "model_id": "bcef7ff7c4a546c8964806fdaa9c51e5",
       "version_major": 2,
       "version_minor": 0
      },
      "text/plain": [
       "HBox(children=(FloatProgress(value=0.0, max=314.0), HTML(value='')))"
      ]
     },
     "metadata": {},
     "output_type": "display_data"
    },
    {
     "name": "stdout",
     "output_type": "stream",
     "text": [
      "\n",
      "val Loss: 0.1146 Acc: 0.9683\n",
      "Early stopping counter: 1\n",
      "211 212\n",
      "valid recall score is 0.953\n",
      "Epoch 18/48\n",
      "------------------------------\n"
     ]
    },
    {
     "data": {
      "application/vnd.jupyter.widget-view+json": {
       "model_id": "e6c34a48415542f2a55b7acbe295885f",
       "version_major": 2,
       "version_minor": 0
      },
      "text/plain": [
       "HBox(children=(FloatProgress(value=0.0, max=2825.0), HTML(value='')))"
      ]
     },
     "metadata": {},
     "output_type": "display_data"
    },
    {
     "name": "stdout",
     "output_type": "stream",
     "text": [
      "\n",
      "train Loss: 0.4799 Acc: 0.9230\n"
     ]
    },
    {
     "data": {
      "application/vnd.jupyter.widget-view+json": {
       "model_id": "4e10e4ec642549038ac89112d2e77bce",
       "version_major": 2,
       "version_minor": 0
      },
      "text/plain": [
       "HBox(children=(FloatProgress(value=0.0, max=314.0), HTML(value='')))"
      ]
     },
     "metadata": {},
     "output_type": "display_data"
    },
    {
     "name": "stdout",
     "output_type": "stream",
     "text": [
      "\n",
      "val Loss: 0.1027 Acc: 0.9715\n",
      "Early stopping counter: 2\n",
      "211 212\n",
      "valid recall score is 0.969\n",
      "Epoch 19/48\n",
      "------------------------------\n"
     ]
    },
    {
     "data": {
      "application/vnd.jupyter.widget-view+json": {
       "model_id": "8e0f03ed7e7f46bb9ecfabfcd50d312e",
       "version_major": 2,
       "version_minor": 0
      },
      "text/plain": [
       "HBox(children=(FloatProgress(value=0.0, max=2825.0), HTML(value='')))"
      ]
     },
     "metadata": {},
     "output_type": "display_data"
    },
    {
     "name": "stdout",
     "output_type": "stream",
     "text": [
      "\n",
      "train Loss: 0.4374 Acc: 0.9255\n"
     ]
    },
    {
     "data": {
      "application/vnd.jupyter.widget-view+json": {
       "model_id": "320de97ddf21499ca806a3dd4b2158bf",
       "version_major": 2,
       "version_minor": 0
      },
      "text/plain": [
       "HBox(children=(FloatProgress(value=0.0, max=314.0), HTML(value='')))"
      ]
     },
     "metadata": {},
     "output_type": "display_data"
    },
    {
     "name": "stdout",
     "output_type": "stream",
     "text": [
      "\n",
      "val Loss: 0.1507 Acc: 0.9599\n",
      "Early stopping counter: 3\n",
      "211 212\n",
      "valid recall score is 0.964\n",
      "Epoch 20/48\n",
      "------------------------------\n"
     ]
    },
    {
     "data": {
      "application/vnd.jupyter.widget-view+json": {
       "model_id": "2ff620f0e950481685bf97efcbb2f34d",
       "version_major": 2,
       "version_minor": 0
      },
      "text/plain": [
       "HBox(children=(FloatProgress(value=0.0, max=2825.0), HTML(value='')))"
      ]
     },
     "metadata": {},
     "output_type": "display_data"
    },
    {
     "name": "stdout",
     "output_type": "stream",
     "text": [
      "\n",
      "train Loss: 0.4286 Acc: 0.9271\n"
     ]
    },
    {
     "data": {
      "application/vnd.jupyter.widget-view+json": {
       "model_id": "4df2fa746e034d9da000645e017d9537",
       "version_major": 2,
       "version_minor": 0
      },
      "text/plain": [
       "HBox(children=(FloatProgress(value=0.0, max=314.0), HTML(value='')))"
      ]
     },
     "metadata": {},
     "output_type": "display_data"
    },
    {
     "name": "stdout",
     "output_type": "stream",
     "text": [
      "\n",
      "val Loss: 0.0979 Acc: 0.9734\n",
      "Early stopping counter: 4\n",
      "211 212\n",
      "valid recall score is 0.926\n",
      "Epoch 21/48\n",
      "------------------------------\n",
      "Early Stopped since loss have not decreased for 4 epoch.\n",
      "Training complete in 381m 19s\n",
      "Best val Recall: 0.983333\n"
     ]
    }
   ],
   "source": [
    "model_ft, best_epoch = train_model(model_ft, dataloaders, criterion, optimizer, scheduler,best_epoch, NUM_EPOCH, DEVICE, PATIAENCE)"
   ]
  },
  {
   "cell_type": "code",
   "execution_count": 63,
   "metadata": {},
   "outputs": [],
   "source": [
    "# --- Model --- Stage 3\n",
    "\n",
    "model_ft = model_ft.to(DEVICE)\n",
    "\n",
    "save_path = f'{MDL_DIR}/{MODEL_NAME}_{VER}/{MODEL_NAME}_'+str(best_epoch+1)+'.pth'\n",
    "load_weights = torch.load(save_path)\n",
    "model_ft.load_state_dict(load_weights)\n",
    "\n",
    "#criterion = nn.BCEWithLogitsLoss()\n",
    "criterion = nn.CrossEntropyLoss()\n",
    "optimizer = torch.optim.Adam(model_ft.parameters(), lr=0.0001)\n",
    "\n",
    "scheduler = torch.optim.lr_scheduler.ReduceLROnPlateau(\n",
    "    optimizer, mode='min', factor=0.5, patience=2, min_lr=1e-10, verbose=True)"
   ]
  },
  {
   "cell_type": "code",
   "execution_count": 64,
   "metadata": {
    "collapsed": true
   },
   "outputs": [
    {
     "name": "stdout",
     "output_type": "stream",
     "text": [
      "Epoch 16/48\n",
      "------------------------------\n"
     ]
    },
    {
     "data": {
      "application/vnd.jupyter.widget-view+json": {
       "model_id": "5d654ee77c2e42b0ba3a0576a575728f",
       "version_major": 2,
       "version_minor": 0
      },
      "text/plain": [
       "HBox(children=(FloatProgress(value=0.0, max=2825.0), HTML(value='')))"
      ]
     },
     "metadata": {},
     "output_type": "display_data"
    },
    {
     "name": "stdout",
     "output_type": "stream",
     "text": [
      "\n",
      "train Loss: 0.4081 Acc: 0.9306\n"
     ]
    },
    {
     "data": {
      "application/vnd.jupyter.widget-view+json": {
       "model_id": "3c4dc2dc11f5441ab3afb3a75783562c",
       "version_major": 2,
       "version_minor": 0
      },
      "text/plain": [
       "HBox(children=(FloatProgress(value=0.0, max=314.0), HTML(value='')))"
      ]
     },
     "metadata": {},
     "output_type": "display_data"
    },
    {
     "name": "stdout",
     "output_type": "stream",
     "text": [
      "\n",
      "val Loss: 0.0686 Acc: 0.9804\n",
      "211 212\n",
      "valid recall score is 0.987\n",
      "Epoch 17/48\n",
      "------------------------------\n"
     ]
    },
    {
     "data": {
      "application/vnd.jupyter.widget-view+json": {
       "model_id": "d1f525c68f9e413a9aadc346c53bdd62",
       "version_major": 2,
       "version_minor": 0
      },
      "text/plain": [
       "HBox(children=(FloatProgress(value=0.0, max=2825.0), HTML(value='')))"
      ]
     },
     "metadata": {},
     "output_type": "display_data"
    },
    {
     "name": "stdout",
     "output_type": "stream",
     "text": [
      "\n",
      "train Loss: 0.3939 Acc: 0.9336\n"
     ]
    },
    {
     "name": "stderr",
     "output_type": "stream",
     "text": [
      "/home/ryoooo1114/anaconda3/envs/analysis/lib/python3.7/site-packages/sklearn/metrics/_classification.py:1272: UndefinedMetricWarning: Recall is ill-defined and being set to 0.0 in labels with no true samples. Use `zero_division` parameter to control this behavior.\n",
      "  _warn_prf(average, modifier, msg_start, len(result))\n"
     ]
    },
    {
     "data": {
      "application/vnd.jupyter.widget-view+json": {
       "model_id": "99c1ed6193f04375aabc8051f076b6b1",
       "version_major": 2,
       "version_minor": 0
      },
      "text/plain": [
       "HBox(children=(FloatProgress(value=0.0, max=314.0), HTML(value='')))"
      ]
     },
     "metadata": {},
     "output_type": "display_data"
    },
    {
     "name": "stdout",
     "output_type": "stream",
     "text": [
      "\n",
      "val Loss: 0.0681 Acc: 0.9816\n",
      "Early stopping counter: 1\n",
      "211 212\n",
      "valid recall score is 0.987\n",
      "Epoch 18/48\n",
      "------------------------------\n"
     ]
    },
    {
     "data": {
      "application/vnd.jupyter.widget-view+json": {
       "model_id": "51b02d77b390436e91ae3dcbcdda9ff0",
       "version_major": 2,
       "version_minor": 0
      },
      "text/plain": [
       "HBox(children=(FloatProgress(value=0.0, max=2825.0), HTML(value='')))"
      ]
     },
     "metadata": {},
     "output_type": "display_data"
    },
    {
     "name": "stdout",
     "output_type": "stream",
     "text": [
      "\n",
      "train Loss: 0.3721 Acc: 0.9391\n"
     ]
    },
    {
     "data": {
      "application/vnd.jupyter.widget-view+json": {
       "model_id": "6f416d3f278048429e489838e9ca6694",
       "version_major": 2,
       "version_minor": 0
      },
      "text/plain": [
       "HBox(children=(FloatProgress(value=0.0, max=314.0), HTML(value='')))"
      ]
     },
     "metadata": {},
     "output_type": "display_data"
    },
    {
     "name": "stdout",
     "output_type": "stream",
     "text": [
      "\n",
      "val Loss: 0.0652 Acc: 0.9825\n",
      "Early stopping counter: 2\n",
      "211 212\n",
      "valid recall score is 0.982\n",
      "Epoch 19/48\n",
      "------------------------------\n"
     ]
    },
    {
     "data": {
      "application/vnd.jupyter.widget-view+json": {
       "model_id": "44ce1c2b56c244b1a6766db189870fe6",
       "version_major": 2,
       "version_minor": 0
      },
      "text/plain": [
       "HBox(children=(FloatProgress(value=0.0, max=2825.0), HTML(value='')))"
      ]
     },
     "metadata": {},
     "output_type": "display_data"
    },
    {
     "name": "stdout",
     "output_type": "stream",
     "text": [
      "\n",
      "train Loss: 0.3718 Acc: 0.9398\n"
     ]
    },
    {
     "data": {
      "application/vnd.jupyter.widget-view+json": {
       "model_id": "dee476cf55ab456aae7eb7f38f7481ff",
       "version_major": 2,
       "version_minor": 0
      },
      "text/plain": [
       "HBox(children=(FloatProgress(value=0.0, max=314.0), HTML(value='')))"
      ]
     },
     "metadata": {},
     "output_type": "display_data"
    },
    {
     "name": "stdout",
     "output_type": "stream",
     "text": [
      "\n",
      "val Loss: 0.0688 Acc: 0.9821\n",
      "1.0\n",
      "211 212\n",
      "valid recall score is 1.000\n",
      "Epoch 20/48\n",
      "------------------------------\n"
     ]
    },
    {
     "data": {
      "application/vnd.jupyter.widget-view+json": {
       "model_id": "0d6f0a927cb44a7dbccee328a798f52d",
       "version_major": 2,
       "version_minor": 0
      },
      "text/plain": [
       "HBox(children=(FloatProgress(value=0.0, max=2825.0), HTML(value='')))"
      ]
     },
     "metadata": {},
     "output_type": "display_data"
    },
    {
     "name": "stdout",
     "output_type": "stream",
     "text": [
      "\n",
      "train Loss: 0.3531 Acc: 0.9392\n"
     ]
    },
    {
     "data": {
      "application/vnd.jupyter.widget-view+json": {
       "model_id": "1437bbe179924618aebdf7538045212d",
       "version_major": 2,
       "version_minor": 0
      },
      "text/plain": [
       "HBox(children=(FloatProgress(value=0.0, max=314.0), HTML(value='')))"
      ]
     },
     "metadata": {},
     "output_type": "display_data"
    },
    {
     "name": "stdout",
     "output_type": "stream",
     "text": [
      "\n",
      "val Loss: 0.0697 Acc: 0.9820\n",
      "Early stopping counter: 1\n",
      "211 212\n",
      "valid recall score is 1.000\n",
      "Epoch 21/48\n",
      "------------------------------\n"
     ]
    },
    {
     "data": {
      "application/vnd.jupyter.widget-view+json": {
       "model_id": "f3f665f050124429a5aa38d911afe190",
       "version_major": 2,
       "version_minor": 0
      },
      "text/plain": [
       "HBox(children=(FloatProgress(value=0.0, max=2825.0), HTML(value='')))"
      ]
     },
     "metadata": {},
     "output_type": "display_data"
    },
    {
     "name": "stdout",
     "output_type": "stream",
     "text": [
      "\n",
      "train Loss: 0.3688 Acc: 0.9415\n"
     ]
    },
    {
     "data": {
      "application/vnd.jupyter.widget-view+json": {
       "model_id": "2ae60d80aae4465eafe5f063187792a1",
       "version_major": 2,
       "version_minor": 0
      },
      "text/plain": [
       "HBox(children=(FloatProgress(value=0.0, max=314.0), HTML(value='')))"
      ]
     },
     "metadata": {},
     "output_type": "display_data"
    },
    {
     "name": "stdout",
     "output_type": "stream",
     "text": [
      "\n",
      "val Loss: 0.0699 Acc: 0.9821\n",
      "Early stopping counter: 2\n",
      "211 212\n",
      "valid recall score is 0.987\n",
      "Epoch 22/48\n",
      "------------------------------\n"
     ]
    },
    {
     "data": {
      "application/vnd.jupyter.widget-view+json": {
       "model_id": "3c5d0051c726453a81c296bacd93ee15",
       "version_major": 2,
       "version_minor": 0
      },
      "text/plain": [
       "HBox(children=(FloatProgress(value=0.0, max=2825.0), HTML(value='')))"
      ]
     },
     "metadata": {},
     "output_type": "display_data"
    },
    {
     "name": "stdout",
     "output_type": "stream",
     "text": [
      "\n",
      "train Loss: 0.3577 Acc: 0.9426\n"
     ]
    },
    {
     "data": {
      "application/vnd.jupyter.widget-view+json": {
       "model_id": "903fdaf57a2c462ead390f97326058ec",
       "version_major": 2,
       "version_minor": 0
      },
      "text/plain": [
       "HBox(children=(FloatProgress(value=0.0, max=314.0), HTML(value='')))"
      ]
     },
     "metadata": {},
     "output_type": "display_data"
    },
    {
     "name": "stdout",
     "output_type": "stream",
     "text": [
      "\n",
      "val Loss: 0.0709 Acc: 0.9820\n",
      "Early stopping counter: 3\n",
      "Epoch     7: reducing learning rate of group 0 to 5.0000e-05.\n",
      "211 212\n",
      "valid recall score is 0.987\n",
      "Epoch 23/48\n",
      "------------------------------\n"
     ]
    },
    {
     "data": {
      "application/vnd.jupyter.widget-view+json": {
       "model_id": "e72c9f559c5a4af99df6cedb9372d379",
       "version_major": 2,
       "version_minor": 0
      },
      "text/plain": [
       "HBox(children=(FloatProgress(value=0.0, max=2825.0), HTML(value='')))"
      ]
     },
     "metadata": {},
     "output_type": "display_data"
    },
    {
     "name": "stdout",
     "output_type": "stream",
     "text": [
      "\n",
      "train Loss: 0.3478 Acc: 0.9443\n"
     ]
    },
    {
     "data": {
      "application/vnd.jupyter.widget-view+json": {
       "model_id": "c348c48ba824483d914367b13b0e540c",
       "version_major": 2,
       "version_minor": 0
      },
      "text/plain": [
       "HBox(children=(FloatProgress(value=0.0, max=314.0), HTML(value='')))"
      ]
     },
     "metadata": {},
     "output_type": "display_data"
    },
    {
     "name": "stdout",
     "output_type": "stream",
     "text": [
      "\n",
      "val Loss: 0.0692 Acc: 0.9829\n",
      "Early stopping counter: 4\n",
      "211 212\n",
      "valid recall score is 0.987\n",
      "Epoch 24/48\n",
      "------------------------------\n"
     ]
    },
    {
     "data": {
      "application/vnd.jupyter.widget-view+json": {
       "model_id": "ada6da6432cc4f58a4a2c1dde7442875",
       "version_major": 2,
       "version_minor": 0
      },
      "text/plain": [
       "HBox(children=(FloatProgress(value=0.0, max=2825.0), HTML(value='')))"
      ]
     },
     "metadata": {},
     "output_type": "display_data"
    },
    {
     "name": "stdout",
     "output_type": "stream",
     "text": [
      "\n",
      "train Loss: 0.3351 Acc: 0.9432\n"
     ]
    },
    {
     "data": {
      "application/vnd.jupyter.widget-view+json": {
       "model_id": "f50780080fac4707afe4f060b3bbe658",
       "version_major": 2,
       "version_minor": 0
      },
      "text/plain": [
       "HBox(children=(FloatProgress(value=0.0, max=314.0), HTML(value='')))"
      ]
     },
     "metadata": {},
     "output_type": "display_data"
    },
    {
     "name": "stdout",
     "output_type": "stream",
     "text": [
      "\n",
      "val Loss: 0.0727 Acc: 0.9831\n",
      "Early stopping counter: 5\n",
      "211 212\n",
      "valid recall score is 0.987\n",
      "Epoch 25/48\n",
      "------------------------------\n"
     ]
    },
    {
     "data": {
      "application/vnd.jupyter.widget-view+json": {
       "model_id": "42e9df95174c41a4a90585e65270c94d",
       "version_major": 2,
       "version_minor": 0
      },
      "text/plain": [
       "HBox(children=(FloatProgress(value=0.0, max=2825.0), HTML(value='')))"
      ]
     },
     "metadata": {},
     "output_type": "display_data"
    },
    {
     "name": "stdout",
     "output_type": "stream",
     "text": [
      "\n",
      "train Loss: 0.3471 Acc: 0.9424\n"
     ]
    },
    {
     "data": {
      "application/vnd.jupyter.widget-view+json": {
       "model_id": "77453d77be7f4f418e37985de007c665",
       "version_major": 2,
       "version_minor": 0
      },
      "text/plain": [
       "HBox(children=(FloatProgress(value=0.0, max=314.0), HTML(value='')))"
      ]
     },
     "metadata": {},
     "output_type": "display_data"
    },
    {
     "name": "stdout",
     "output_type": "stream",
     "text": [
      "\n",
      "val Loss: 0.0710 Acc: 0.9828\n",
      "Early stopping counter: 6\n",
      "Epoch    10: reducing learning rate of group 0 to 2.5000e-05.\n",
      "211 212\n",
      "valid recall score is 0.982\n",
      "Epoch 26/48\n",
      "------------------------------\n",
      "Early Stopped since loss have not decreased for 6 epoch.\n",
      "Training complete in 476m 27s\n",
      "Best val Recall: 1.000000\n"
     ]
    }
   ],
   "source": [
    "PATIAENCE = 6\n",
    "model_ft, best_epoch = train_model(model_ft, dataloaders, criterion, optimizer, scheduler,best_epoch, NUM_EPOCH, DEVICE, PATIAENCE)"
   ]
  },
  {
   "cell_type": "code",
   "execution_count": 74,
   "metadata": {},
   "outputs": [],
   "source": [
    "def train_model(model, dataloaders, criterion, optimizer, scheduler,start_epoch,\n",
    "                num_epochs, device, patiance):\n",
    "    since = time.time()\n",
    "    \n",
    "    trn_loss_list =[]\n",
    "    trn_acc_list = []\n",
    "    val_loss_list =[]\n",
    "    val_acc_list = []\n",
    "    epoch_list = []\n",
    "    recall_list = []\n",
    "    mix_cnt = 0\n",
    "    cut_cnt = 0\n",
    "\n",
    "    best_model_wts = copy.deepcopy(model.state_dict())\n",
    "    best_acc = 0.0\n",
    "    best_loss = 10\n",
    "    torch.backends.cudnn.benchmark = True\n",
    "    early_stopping_counter = 0\n",
    "    \n",
    "    for epoch in range(num_epochs)[start_epoch:]:\n",
    "        print('Epoch {}/{}'.format(epoch+1, num_epochs))\n",
    "        print('-' * 30)  \n",
    "        \n",
    "        if early_stopping_counter == patiance:\n",
    "            print(f'Early Stopped since loss have not decreased for {patiance} epoch.')\n",
    "            break\n",
    "        epoch_list.append(epoch+1)\n",
    "        # Each epoch has a training and validation phase\n",
    "        for phase in ['train', 'val']:\n",
    "            if phase == 'train':\n",
    "                model.train()  # Set model to training mode\n",
    "            else:\n",
    "                model.eval()   # Set model to evaluate mode\n",
    "\n",
    "            epoch_loss = 0.0\n",
    "            epoch_corrects = 0\n",
    "            dataset_sizes = len(dataloaders[phase].dataset)\n",
    "            length = int(np.floor(dataset_sizes/BATCH_SIZE))\n",
    "            ratio = 0.1\n",
    "            randomlist = random.sample( range(length), int(ratio*length))\n",
    "            mixuplist = randomlist[:int(ratio*length/2)]\n",
    "            cutmixlist = randomlist[int(ratio*length/2):]\n",
    "\n",
    "            # Iterate over data.\n",
    "            for idx, (inputs, labels) in enumerate(tqdm(dataloaders[phase])):\n",
    "                #print(inputs.shape)\n",
    "                inputs = inputs.to(device)\n",
    "                labels = labels.transpose(1,0).to(device) #use when single label for one image\n",
    "\n",
    "                grapheme_root = labels[0]\n",
    "                vowel_diacritic = labels[1]\n",
    "                consonant_diacritic = labels[2]\n",
    "                \n",
    "                # zero the parameter gradients\n",
    "                optimizer.zero_grad()\n",
    "\n",
    "                # Forward\n",
    "                # track history if only in train\n",
    "                with torch.set_grad_enabled(phase == 'train'):                                 \n",
    "                    if phase == 'train':\n",
    "                        if idx in mixuplist:\n",
    "                            mix_cnt += 1\n",
    "                            inputs_mixed, labels_mixed = mixup(inputs, grapheme_root, \\\n",
    "                                                               vowel_diacritic, consonant_diacritic, 0.1)\n",
    "\n",
    "                            outputs = model(inputs_mixed) \n",
    "                            grapheme_root_prd = outputs[0]\n",
    "                            vowel_diacritic_prd = outputs[1]\n",
    "                            consonant_diacritic_prd = outputs[2]\n",
    "                            loss = mixup_criterion(grapheme_root_prd,vowel_diacritic_prd,\\\n",
    "                                               consonant_diacritic_prd, labels_mixed)\n",
    "                            \n",
    "                        elif idx in cutmixlist:\n",
    "                            cut_cnt += 1\n",
    "                            inputs_cut, labels_cut = cutmix(inputs, grapheme_root, \\\n",
    "                                                               vowel_diacritic, consonant_diacritic, 0.1)\n",
    "\n",
    "                            outputs = model(inputs_cut) \n",
    "                            grapheme_root_prd = outputs[0]\n",
    "                            vowel_diacritic_prd = outputs[1]\n",
    "                            consonant_diacritic_prd = outputs[2]\n",
    "                            loss = cutmix_criterion(grapheme_root_prd,vowel_diacritic_prd,\\\n",
    "                                               consonant_diacritic_prd, labels_cut)\n",
    "                        \n",
    "                        else:\n",
    "                            outputs = model(inputs)\n",
    "                            grapheme_root_prd = outputs[0]\n",
    "                            vowel_diacritic_prd = outputs[1]\n",
    "                            consonant_diacritic_prd = outputs[2]\n",
    "                            loss = (1/4)*(2*criterion(grapheme_root_prd, grapheme_root)+\\\n",
    "                                  criterion(vowel_diacritic_prd, vowel_diacritic) +\\\n",
    "                                     criterion(consonant_diacritic_prd, consonant_diacritic))\n",
    "                        loss.backward()\n",
    "                        optimizer.step()\n",
    "                    if phase == 'val':\n",
    "                        outputs = model(inputs)\n",
    "                        grapheme_root_prd = outputs[0]\n",
    "                        vowel_diacritic_prd = outputs[1]\n",
    "                        consonant_diacritic_prd = outputs[2]\n",
    "                        loss = (1/4)*(2*criterion(grapheme_root_prd, grapheme_root)+\\\n",
    "                              criterion(vowel_diacritic_prd, vowel_diacritic) +\\\n",
    "                                 criterion(consonant_diacritic_prd, consonant_diacritic))\n",
    "                        #scheduler.step()\n",
    "                        # if plateau scheduler use following\n",
    "                        \n",
    "                # statistics: inputs.size(0) is batch size\n",
    "                epoch_loss += loss.item() * inputs.size(0) # total loss for this batch\n",
    "                epoch_corrects += torch.sum(torch.max(outputs[0], 1)[1] == labels[0])+\\\n",
    "                    torch.sum(torch.max(outputs[1], 1)[1] == labels[1])+\\\n",
    "                    torch.sum(torch.max(outputs[2], 1)[1] == labels[2])\n",
    "                \n",
    "            epoch_loss = epoch_loss / dataset_sizes\n",
    "            epoch_acc = epoch_corrects.double() / (dataset_sizes*3)\n",
    "            \n",
    "            if phase == 'train':\n",
    "                trn_loss_list.append(epoch_loss)\n",
    "                trn_acc_list.append(epoch_acc.cpu().numpy())\n",
    "\n",
    "            print('{} Loss: {:.4f} Acc: {:.4f}'.format(\n",
    "                phase, epoch_loss, epoch_acc))\n",
    "\n",
    "            # Deep copy the model\n",
    "            if phase == 'val' and epoch_loss < best_loss:\n",
    "                best_model_wts = copy.deepcopy(model.state_dict())\n",
    "                if not os.path.exists(f'{MDL_DIR}/{MODEL_NAME}_{VER}'):\n",
    "                    os.mkdir(f'{MDL_DIR}/{MODEL_NAME}_{VER}')\n",
    "                save_path = f'{MDL_DIR}/{MODEL_NAME}_{VER}/{MODEL_NAME}_'+str(epoch+1)+'.pth'\n",
    "                torch.save(model_ft.state_dict(),save_path)\n",
    "                best_epoch = epoch\n",
    "            \n",
    "            if phase == 'val':\n",
    "                if epoch == 0 or epoch == start_epoch:\n",
    "                    best_loss = epoch_loss\n",
    "                    print(best_loss)\n",
    "                else:\n",
    "                    if epoch_loss < best_loss:\n",
    "                        print(best_loss)\n",
    "                        best_loss = epoch_loss\n",
    "                        early_stopping_counter = 0\n",
    "                    else:\n",
    "                        early_stopping_counter += 1\n",
    "                        print(f'Early stopping counter: {early_stopping_counter}')\n",
    "                scheduler.step(epoch_loss)\n",
    "                val_loss_list.append(epoch_loss)\n",
    "                val_acc_list.append(epoch_acc.cpu().numpy())\n",
    "                print(mix_cnt, cut_cnt)\n",
    "                mix_cnt = 0\n",
    "                cut_cnt = 0\n",
    "                pred, lbls = get_pred(outputs, labels)\n",
    "                recall = macro_recall(pred, lbls, \\\n",
    "                                      n_grapheme=168, n_vowel=11, n_consonant=7)\n",
    "                print('valid recall score is {:.3f}'.format(recall))\n",
    "                recall_list.append(recall)\n",
    "\n",
    "        \n",
    "    time_elapsed = time.time() - since\n",
    "    print('Training complete in {:.0f}m {:.0f}s'.format(\n",
    "        time_elapsed // 60, time_elapsed % 60))\n",
    "    print('Best val Loss: {:4f}'.format(best_loss))\n",
    "\n",
    "    # load best model weights\n",
    "    model.load_state_dict(best_model_wts)\n",
    "    if not os.path.exists(f'{LOG_DIR}/log_{MODEL_NAME}_{VER}.csv'):\n",
    "        log = pd.DataFrame()\n",
    "        log['Epoch'] = epoch_list\n",
    "        log['Train Loss'] = trn_loss_list\n",
    "        log['Train Acc'] = trn_acc_list\n",
    "        log['Valid Loss'] = val_loss_list\n",
    "        log['Valid Acc'] = val_acc_list\n",
    "        log['Recall'] = recall_list\n",
    "        log.to_csv(f'{LOG_DIR}/log_{MODEL_NAME}_{VER}.csv',index=False)\n",
    "    else:\n",
    "        log = pd.DataFrame()\n",
    "        log['Epoch'] = epoch_list\n",
    "        log['Train Loss'] = trn_loss_list\n",
    "        log['Train Acc'] = trn_acc_list\n",
    "        log['Valid Loss'] = val_loss_list\n",
    "        log['Valid Acc'] = val_acc_list\n",
    "        log['Recall'] = recall_list\n",
    "        log_old = pd.read_csv(f'{LOG_DIR}/log_{MODEL_NAME}_{VER}.csv')\n",
    "        LOG = pd.concat([log_old, log], axis=0)\n",
    "        LOG.reset_index(drop=True, inplace=True)\n",
    "        LOG.to_csv(f'{LOG_DIR}/log_{MODEL_NAME}_{VER}.csv',index=False)\n",
    "    return model, best_epoch"
   ]
  },
  {
   "cell_type": "code",
   "execution_count": 75,
   "metadata": {},
   "outputs": [],
   "source": [
    "# --- Model --- Stage 4\n",
    "\n",
    "model_ft = model_ft.to(DEVICE)\n",
    "\n",
    "save_path = f'{MDL_DIR}/{MODEL_NAME}_{VER}/{MODEL_NAME}_'+str(best_epoch+1)+'.pth'\n",
    "load_weights = torch.load(save_path)\n",
    "model_ft.load_state_dict(load_weights)\n",
    "\n",
    "#criterion = nn.BCEWithLogitsLoss()\n",
    "criterion = nn.CrossEntropyLoss()\n",
    "optimizer = torch.optim.Adam(model_ft.parameters(), lr=0.0000125)\n",
    "\n",
    "scheduler = torch.optim.lr_scheduler.CosineAnnealingLR(optimizer, 3, eta_min=0, last_epoch=-1)"
   ]
  },
  {
   "cell_type": "code",
   "execution_count": 76,
   "metadata": {},
   "outputs": [
    {
     "name": "stdout",
     "output_type": "stream",
     "text": [
      "Epoch 19/48\n",
      "------------------------------\n"
     ]
    },
    {
     "data": {
      "application/vnd.jupyter.widget-view+json": {
       "model_id": "68cdf0efefc64839964c92914ff01e38",
       "version_major": 2,
       "version_minor": 0
      },
      "text/plain": [
       "HBox(children=(FloatProgress(value=0.0, max=2825.0), HTML(value='')))"
      ]
     },
     "metadata": {},
     "output_type": "display_data"
    },
    {
     "name": "stdout",
     "output_type": "stream",
     "text": [
      "\n",
      "train Loss: 0.2035 Acc: 0.9593\n"
     ]
    },
    {
     "data": {
      "application/vnd.jupyter.widget-view+json": {
       "model_id": "a6cf41302f104e42b9781c6cd74da2a4",
       "version_major": 2,
       "version_minor": 0
      },
      "text/plain": [
       "HBox(children=(FloatProgress(value=0.0, max=314.0), HTML(value='')))"
      ]
     },
     "metadata": {},
     "output_type": "display_data"
    },
    {
     "name": "stdout",
     "output_type": "stream",
     "text": [
      "\n",
      "val Loss: 0.0794 Acc: 0.9834\n",
      "0.07938785859274392\n",
      "141 141\n",
      "valid recall score is 1.000\n",
      "Epoch 20/48\n",
      "------------------------------\n"
     ]
    },
    {
     "data": {
      "application/vnd.jupyter.widget-view+json": {
       "model_id": "6088b5f234b143429dc404e3f9eb563e",
       "version_major": 2,
       "version_minor": 0
      },
      "text/plain": [
       "HBox(children=(FloatProgress(value=0.0, max=2825.0), HTML(value='')))"
      ]
     },
     "metadata": {},
     "output_type": "display_data"
    },
    {
     "name": "stdout",
     "output_type": "stream",
     "text": [
      "\n",
      "train Loss: 0.1891 Acc: 0.9568\n"
     ]
    },
    {
     "data": {
      "application/vnd.jupyter.widget-view+json": {
       "model_id": "28748c82be084af9a279be6d3429defb",
       "version_major": 2,
       "version_minor": 0
      },
      "text/plain": [
       "HBox(children=(FloatProgress(value=0.0, max=314.0), HTML(value='')))"
      ]
     },
     "metadata": {},
     "output_type": "display_data"
    },
    {
     "name": "stdout",
     "output_type": "stream",
     "text": [
      "\n",
      "val Loss: 0.0787 Acc: 0.9834\n",
      "0.07938785859274392\n",
      "141 141\n",
      "valid recall score is 0.987\n",
      "Epoch 21/48\n",
      "------------------------------\n"
     ]
    },
    {
     "data": {
      "application/vnd.jupyter.widget-view+json": {
       "model_id": "e9768b757a1d4c58a8f228468a808124",
       "version_major": 2,
       "version_minor": 0
      },
      "text/plain": [
       "HBox(children=(FloatProgress(value=0.0, max=2825.0), HTML(value='')))"
      ]
     },
     "metadata": {},
     "output_type": "display_data"
    },
    {
     "name": "stdout",
     "output_type": "stream",
     "text": [
      "\n",
      "train Loss: 0.1891 Acc: 0.9598\n"
     ]
    },
    {
     "data": {
      "application/vnd.jupyter.widget-view+json": {
       "model_id": "23e2bb74d7d84180b2a16fcd94e06ecf",
       "version_major": 2,
       "version_minor": 0
      },
      "text/plain": [
       "HBox(children=(FloatProgress(value=0.0, max=314.0), HTML(value='')))"
      ]
     },
     "metadata": {},
     "output_type": "display_data"
    },
    {
     "name": "stdout",
     "output_type": "stream",
     "text": [
      "\n",
      "val Loss: 0.0800 Acc: 0.9839\n",
      "Early stopping counter: 1\n",
      "141 141\n",
      "valid recall score is 0.987\n",
      "Epoch 22/48\n",
      "------------------------------\n"
     ]
    },
    {
     "data": {
      "application/vnd.jupyter.widget-view+json": {
       "model_id": "7abe5f7e4b46477b97876c994ec21e6c",
       "version_major": 2,
       "version_minor": 0
      },
      "text/plain": [
       "HBox(children=(FloatProgress(value=0.0, max=2825.0), HTML(value='')))"
      ]
     },
     "metadata": {},
     "output_type": "display_data"
    },
    {
     "name": "stdout",
     "output_type": "stream",
     "text": [
      "\n",
      "train Loss: 0.2194 Acc: 0.9560\n"
     ]
    },
    {
     "data": {
      "application/vnd.jupyter.widget-view+json": {
       "model_id": "2bee3e283ac84f2f8cc497727cecea11",
       "version_major": 2,
       "version_minor": 0
      },
      "text/plain": [
       "HBox(children=(FloatProgress(value=0.0, max=314.0), HTML(value='')))"
      ]
     },
     "metadata": {},
     "output_type": "display_data"
    },
    {
     "name": "stdout",
     "output_type": "stream",
     "text": [
      "\n",
      "val Loss: 0.0806 Acc: 0.9837\n",
      "Early stopping counter: 2\n",
      "141 141\n",
      "valid recall score is 1.000\n",
      "Epoch 23/48\n",
      "------------------------------\n"
     ]
    },
    {
     "data": {
      "application/vnd.jupyter.widget-view+json": {
       "model_id": "43ac6f0dec66418eb164d0e32fff71be",
       "version_major": 2,
       "version_minor": 0
      },
      "text/plain": [
       "HBox(children=(FloatProgress(value=0.0, max=2825.0), HTML(value='')))"
      ]
     },
     "metadata": {},
     "output_type": "display_data"
    },
    {
     "name": "stdout",
     "output_type": "stream",
     "text": [
      "\n",
      "train Loss: 0.2015 Acc: 0.9596\n"
     ]
    },
    {
     "data": {
      "application/vnd.jupyter.widget-view+json": {
       "model_id": "78eef533793f4b9790c6f64c3bcfb8a5",
       "version_major": 2,
       "version_minor": 0
      },
      "text/plain": [
       "HBox(children=(FloatProgress(value=0.0, max=314.0), HTML(value='')))"
      ]
     },
     "metadata": {},
     "output_type": "display_data"
    },
    {
     "name": "stdout",
     "output_type": "stream",
     "text": [
      "\n",
      "val Loss: 0.0811 Acc: 0.9836\n",
      "Early stopping counter: 3\n",
      "141 141\n",
      "valid recall score is 0.987\n",
      "Epoch 24/48\n",
      "------------------------------\n"
     ]
    },
    {
     "data": {
      "application/vnd.jupyter.widget-view+json": {
       "model_id": "ee240c34a0954f29a8dc118542330e6c",
       "version_major": 2,
       "version_minor": 0
      },
      "text/plain": [
       "HBox(children=(FloatProgress(value=0.0, max=2825.0), HTML(value='')))"
      ]
     },
     "metadata": {},
     "output_type": "display_data"
    },
    {
     "name": "stdout",
     "output_type": "stream",
     "text": [
      "\n",
      "train Loss: 0.1914 Acc: 0.9611\n"
     ]
    },
    {
     "data": {
      "application/vnd.jupyter.widget-view+json": {
       "model_id": "a97aab74bdb04ea590921e7220d37270",
       "version_major": 2,
       "version_minor": 0
      },
      "text/plain": [
       "HBox(children=(FloatProgress(value=0.0, max=314.0), HTML(value='')))"
      ]
     },
     "metadata": {},
     "output_type": "display_data"
    },
    {
     "name": "stdout",
     "output_type": "stream",
     "text": [
      "\n",
      "val Loss: 0.0794 Acc: 0.9837\n",
      "Early stopping counter: 4\n",
      "141 141\n",
      "valid recall score is 1.000\n",
      "Epoch 25/48\n",
      "------------------------------\n"
     ]
    },
    {
     "data": {
      "application/vnd.jupyter.widget-view+json": {
       "model_id": "78b55434c64449ae91d9bccc220499bc",
       "version_major": 2,
       "version_minor": 0
      },
      "text/plain": [
       "HBox(children=(FloatProgress(value=0.0, max=2825.0), HTML(value='')))"
      ]
     },
     "metadata": {},
     "output_type": "display_data"
    },
    {
     "name": "stdout",
     "output_type": "stream",
     "text": [
      "\n",
      "train Loss: 0.1858 Acc: 0.9641\n"
     ]
    },
    {
     "data": {
      "application/vnd.jupyter.widget-view+json": {
       "model_id": "da52e69d83a04ea48404ccb11c3d7eff",
       "version_major": 2,
       "version_minor": 0
      },
      "text/plain": [
       "HBox(children=(FloatProgress(value=0.0, max=314.0), HTML(value='')))"
      ]
     },
     "metadata": {},
     "output_type": "display_data"
    },
    {
     "name": "stdout",
     "output_type": "stream",
     "text": [
      "\n",
      "val Loss: 0.0805 Acc: 0.9838\n",
      "Early stopping counter: 5\n",
      "141 141\n",
      "valid recall score is 0.987\n",
      "Epoch 26/48\n",
      "------------------------------\n"
     ]
    },
    {
     "data": {
      "application/vnd.jupyter.widget-view+json": {
       "model_id": "026d3e583f7346b4ba56b158de6ad5a4",
       "version_major": 2,
       "version_minor": 0
      },
      "text/plain": [
       "HBox(children=(FloatProgress(value=0.0, max=2825.0), HTML(value='')))"
      ]
     },
     "metadata": {},
     "output_type": "display_data"
    },
    {
     "name": "stdout",
     "output_type": "stream",
     "text": [
      "\n",
      "train Loss: 0.2074 Acc: 0.9617\n"
     ]
    },
    {
     "data": {
      "application/vnd.jupyter.widget-view+json": {
       "model_id": "e48dd5d4753f4ddf85c855759bf8e95a",
       "version_major": 2,
       "version_minor": 0
      },
      "text/plain": [
       "HBox(children=(FloatProgress(value=0.0, max=314.0), HTML(value='')))"
      ]
     },
     "metadata": {},
     "output_type": "display_data"
    },
    {
     "name": "stdout",
     "output_type": "stream",
     "text": [
      "\n",
      "val Loss: 0.0794 Acc: 0.9838\n",
      "Early stopping counter: 6\n",
      "141 141\n",
      "valid recall score is 1.000\n",
      "Epoch 27/48\n",
      "------------------------------\n",
      "Early Stopped since loss have not decreased for 6 epoch.\n",
      "Training complete in 380m 14s\n",
      "Best val Loss: 0.078741\n"
     ]
    }
   ],
   "source": [
    "PATIAENCE = 6\n",
    "model_ft, best_epoch = train_model(model_ft, dataloaders, criterion, optimizer, scheduler,best_epoch, NUM_EPOCH, DEVICE, PATIAENCE)"
   ]
  },
  {
   "cell_type": "code",
   "execution_count": 81,
   "metadata": {
    "code_folding": []
   },
   "outputs": [],
   "source": [
    "# --- Model --- Stage 5\n",
    "\n",
    "model_ft = model_ft.to(DEVICE)\n",
    "\n",
    "save_path = f'{MDL_DIR}/{MODEL_NAME}_{VER}/{MODEL_NAME}_'+str(best_epoch+1)+'.pth'\n",
    "load_weights = torch.load(save_path)\n",
    "model_ft.load_state_dict(load_weights)\n",
    "\n",
    "#criterion = nn.BCEWithLogitsLoss()\n",
    "criterion = nn.CrossEntropyLoss()\n",
    "optimizer = torch.optim.Adam(model_ft.parameters(), lr=0.0000125)\n",
    "\n",
    "scheduler = torch.optim.lr_scheduler.ReduceLROnPlateau(\n",
    "    optimizer, mode='min', factor=0.5, patience=1, min_lr=1e-10, verbose=True)"
   ]
  },
  {
   "cell_type": "code",
   "execution_count": 82,
   "metadata": {},
   "outputs": [
    {
     "name": "stdout",
     "output_type": "stream",
     "text": [
      "Epoch 21/48\n",
      "------------------------------\n"
     ]
    },
    {
     "data": {
      "application/vnd.jupyter.widget-view+json": {
       "model_id": "d26b0d010a604a0ab7e7b8033eacad8f",
       "version_major": 2,
       "version_minor": 0
      },
      "text/plain": [
       "HBox(children=(FloatProgress(value=0.0, max=2825.0), HTML(value='')))"
      ]
     },
     "metadata": {},
     "output_type": "display_data"
    },
    {
     "name": "stdout",
     "output_type": "stream",
     "text": [
      "\n",
      "train Loss: 0.1865 Acc: 0.9611\n"
     ]
    },
    {
     "data": {
      "application/vnd.jupyter.widget-view+json": {
       "model_id": "c28527eac16145499ef22b24617fb70f",
       "version_major": 2,
       "version_minor": 0
      },
      "text/plain": [
       "HBox(children=(FloatProgress(value=0.0, max=314.0), HTML(value='')))"
      ]
     },
     "metadata": {},
     "output_type": "display_data"
    },
    {
     "name": "stdout",
     "output_type": "stream",
     "text": [
      "\n",
      "val Loss: 0.0784 Acc: 0.9839\n",
      "0.07840094533729448\n",
      "141 141\n",
      "valid recall score is 0.987\n",
      "Epoch 22/48\n",
      "------------------------------\n"
     ]
    },
    {
     "data": {
      "application/vnd.jupyter.widget-view+json": {
       "model_id": "785aa43225d446e391a87c60c758d1f6",
       "version_major": 2,
       "version_minor": 0
      },
      "text/plain": [
       "HBox(children=(FloatProgress(value=0.0, max=2825.0), HTML(value='')))"
      ]
     },
     "metadata": {},
     "output_type": "display_data"
    },
    {
     "name": "stdout",
     "output_type": "stream",
     "text": [
      "\n",
      "train Loss: 0.1839 Acc: 0.9610\n"
     ]
    },
    {
     "data": {
      "application/vnd.jupyter.widget-view+json": {
       "model_id": "72c327ab74bd4481b0089d1431c8860e",
       "version_major": 2,
       "version_minor": 0
      },
      "text/plain": [
       "HBox(children=(FloatProgress(value=0.0, max=314.0), HTML(value='')))"
      ]
     },
     "metadata": {},
     "output_type": "display_data"
    },
    {
     "name": "stdout",
     "output_type": "stream",
     "text": [
      "\n",
      "val Loss: 0.0790 Acc: 0.9839\n",
      "Early stopping counter: 1\n",
      "141 141\n",
      "valid recall score is 0.987\n",
      "Epoch 23/48\n",
      "------------------------------\n"
     ]
    },
    {
     "data": {
      "application/vnd.jupyter.widget-view+json": {
       "model_id": "6bd7fc232c384cff92c85bf12362d91e",
       "version_major": 2,
       "version_minor": 0
      },
      "text/plain": [
       "HBox(children=(FloatProgress(value=0.0, max=2825.0), HTML(value='')))"
      ]
     },
     "metadata": {},
     "output_type": "display_data"
    },
    {
     "name": "stdout",
     "output_type": "stream",
     "text": [
      "\n",
      "train Loss: 0.2002 Acc: 0.9600\n"
     ]
    },
    {
     "data": {
      "application/vnd.jupyter.widget-view+json": {
       "model_id": "bb63bd9281cf4007b6431518a8df9d48",
       "version_major": 2,
       "version_minor": 0
      },
      "text/plain": [
       "HBox(children=(FloatProgress(value=0.0, max=314.0), HTML(value='')))"
      ]
     },
     "metadata": {},
     "output_type": "display_data"
    },
    {
     "name": "stdout",
     "output_type": "stream",
     "text": [
      "\n",
      "val Loss: 0.0815 Acc: 0.9835\n",
      "Early stopping counter: 2\n",
      "Epoch     3: reducing learning rate of group 0 to 6.2500e-06.\n",
      "141 141\n",
      "valid recall score is 1.000\n",
      "Epoch 24/48\n",
      "------------------------------\n"
     ]
    },
    {
     "data": {
      "application/vnd.jupyter.widget-view+json": {
       "model_id": "4f25c10afb0141eeb7e5d0c096ce3785",
       "version_major": 2,
       "version_minor": 0
      },
      "text/plain": [
       "HBox(children=(FloatProgress(value=0.0, max=2825.0), HTML(value='')))"
      ]
     },
     "metadata": {},
     "output_type": "display_data"
    },
    {
     "name": "stdout",
     "output_type": "stream",
     "text": [
      "\n",
      "train Loss: 0.1730 Acc: 0.9653\n"
     ]
    },
    {
     "data": {
      "application/vnd.jupyter.widget-view+json": {
       "model_id": "0e8a9150d07f402a9c79e4523ab4eb30",
       "version_major": 2,
       "version_minor": 0
      },
      "text/plain": [
       "HBox(children=(FloatProgress(value=0.0, max=314.0), HTML(value='')))"
      ]
     },
     "metadata": {},
     "output_type": "display_data"
    },
    {
     "name": "stdout",
     "output_type": "stream",
     "text": [
      "\n",
      "val Loss: 0.0823 Acc: 0.9837\n",
      "Early stopping counter: 3\n",
      "141 141\n",
      "valid recall score is 0.987\n",
      "Epoch 25/48\n",
      "------------------------------\n"
     ]
    },
    {
     "data": {
      "application/vnd.jupyter.widget-view+json": {
       "model_id": "e42281d6decd4a019b784a32bb40149c",
       "version_major": 2,
       "version_minor": 0
      },
      "text/plain": [
       "HBox(children=(FloatProgress(value=0.0, max=2825.0), HTML(value='')))"
      ]
     },
     "metadata": {},
     "output_type": "display_data"
    },
    {
     "name": "stdout",
     "output_type": "stream",
     "text": [
      "\n",
      "train Loss: 0.2017 Acc: 0.9599\n"
     ]
    },
    {
     "data": {
      "application/vnd.jupyter.widget-view+json": {
       "model_id": "16552129d402432698c43ee6ff1bf565",
       "version_major": 2,
       "version_minor": 0
      },
      "text/plain": [
       "HBox(children=(FloatProgress(value=0.0, max=314.0), HTML(value='')))"
      ]
     },
     "metadata": {},
     "output_type": "display_data"
    },
    {
     "name": "stdout",
     "output_type": "stream",
     "text": [
      "\n",
      "val Loss: 0.0811 Acc: 0.9838\n",
      "Early stopping counter: 4\n",
      "Epoch     5: reducing learning rate of group 0 to 3.1250e-06.\n",
      "141 141\n",
      "valid recall score is 0.987\n",
      "Epoch 26/48\n",
      "------------------------------\n",
      "Early Stopped since loss have not decreased for 4 epoch.\n",
      "Training complete in 237m 30s\n",
      "Best val Loss: 0.078401\n"
     ]
    }
   ],
   "source": [
    "PATIAENCE = 4\n",
    "model_ft, best_epoch = train_model(model_ft, dataloaders, criterion, optimizer, scheduler,best_epoch+1, NUM_EPOCH, DEVICE, PATIAENCE)"
   ]
  },
  {
   "cell_type": "markdown",
   "metadata": {},
   "source": [
    "# Evaluation"
   ]
  },
  {
   "cell_type": "code",
   "execution_count": 49,
   "metadata": {},
   "outputs": [],
   "source": [
    "def predict(model, dataloaders, phase, device):\n",
    "    model.eval()\n",
    "    output_list = []\n",
    "    label_list = []\n",
    "    with torch.no_grad():\n",
    "        if phase == 'test':\n",
    "            for i, inputs in enumerate(tqdm(dataloaders)):\n",
    "                \n",
    "                inputs = inputs.to(device)\n",
    "                outputs = model(inputs)\n",
    "                _, pred0 = torch.max(outputs[0], 1)\n",
    "                _, pred1 = torch.max(outputs[1], 1)\n",
    "                _, pred2 = torch.max(outputs[2], 1)\n",
    "                preds = (pred0, pred1, pred2)\n",
    "                output_list.append(preds)\n",
    "            return output_list\n",
    "        elif phase == 'val':\n",
    "            for i, (inputs, labels) in enumerate(tqdm(dataloaders)):\n",
    "                \n",
    "                inputs = inputs.to(device)\n",
    "                outputs = model(inputs)\n",
    "                _, pred0 = torch.max(outputs[0], 1)\n",
    "                _, pred1 = torch.max(outputs[1], 1)\n",
    "                _, pred2 = torch.max(outputs[2], 1)\n",
    "                preds = (pred0, pred1, pred2)\n",
    "                output_list.append(preds)\n",
    "                label_list.append(labels.transpose(1,0))\n",
    "            return output_list, label_list"
   ]
  },
  {
   "cell_type": "code",
   "execution_count": 83,
   "metadata": {},
   "outputs": [
    {
     "data": {
      "text/plain": [
       "21"
      ]
     },
     "execution_count": 83,
     "metadata": {},
     "output_type": "execute_result"
    }
   ],
   "source": [
    "best_epoch+1"
   ]
  },
  {
   "cell_type": "code",
   "execution_count": 84,
   "metadata": {},
   "outputs": [
    {
     "data": {
      "text/plain": [
       "<All keys matched successfully>"
      ]
     },
     "execution_count": 84,
     "metadata": {},
     "output_type": "execute_result"
    }
   ],
   "source": [
    "save_path = f'{MDL_DIR}/{MODEL_NAME}_{VER}/{MODEL_NAME}_'+str(best_epoch+1)+'.pth'\n",
    "load_weights = torch.load(save_path)\n",
    "model_ft.load_state_dict(load_weights)"
   ]
  },
  {
   "cell_type": "code",
   "execution_count": 85,
   "metadata": {},
   "outputs": [
    {
     "name": "stdout",
     "output_type": "stream",
     "text": [
      "valid_dataset 20084\n"
     ]
    },
    {
     "data": {
      "application/vnd.jupyter.widget-view+json": {
       "model_id": "35eb2b78c1134cb7b71ac9cd8c696db1",
       "version_major": 2,
       "version_minor": 0
      },
      "text/plain": [
       "HBox(children=(FloatProgress(value=0.0, max=314.0), HTML(value='')))"
      ]
     },
     "metadata": {},
     "output_type": "display_data"
    },
    {
     "name": "stdout",
     "output_type": "stream",
     "text": [
      "\n"
     ]
    },
    {
     "data": {
      "text/plain": [
       "9"
      ]
     },
     "execution_count": 85,
     "metadata": {},
     "output_type": "execute_result"
    }
   ],
   "source": [
    "# --- Prediction ---\n",
    "data_type = 'val'\n",
    "valid_preds_list = []\n",
    "print('valid_dataset', len(valid_dataset))\n",
    "valid_preds_list, valid_label_list = predict(model_ft, valid_loader, data_type, DEVICE)\n",
    "gc.collect()"
   ]
  },
  {
   "cell_type": "code",
   "execution_count": 86,
   "metadata": {},
   "outputs": [
    {
     "name": "stdout",
     "output_type": "stream",
     "text": [
      "p0 (20084,) p1 (20084,) p2 (20084,)\n",
      "a0 (20084,) a1 (20084,) a2 (20084,)\n"
     ]
    },
    {
     "data": {
      "text/plain": [
       "0.9777011040646183"
      ]
     },
     "execution_count": 86,
     "metadata": {},
     "output_type": "execute_result"
    }
   ],
   "source": [
    "# Each test_preds indicates the prediction outputs of different batch\n",
    "p0 = np.concatenate([valid_preds[0].cpu().numpy() for valid_preds in valid_preds_list], axis=0)\n",
    "p1 = np.concatenate([valid_preds[1].cpu().numpy() for valid_preds in valid_preds_list], axis=0)\n",
    "p2 = np.concatenate([valid_preds[2].cpu().numpy() for valid_preds in valid_preds_list], axis=0)\n",
    "print('p0', p0.shape, 'p1', p1.shape, 'p2', p2.shape)\n",
    "\n",
    "a0 = np.concatenate([valid_label[0].cpu().numpy() for valid_label in valid_label_list], axis=0)\n",
    "a1 = np.concatenate([valid_label[1].cpu().numpy() for valid_label in valid_label_list], axis=0)\n",
    "a2 = np.concatenate([valid_label[2].cpu().numpy() for valid_label in valid_label_list], axis=0)\n",
    "print('a0', a0.shape, 'a1', a1.shape, 'a2', a2.shape)\n",
    "\n",
    "pred_labels = [p0, p1, p2]\n",
    "y = [a0, a1, a2]\n",
    "macro_recall(pred_labels, y, n_grapheme=168, n_vowel=11, n_consonant=7)\n",
    "# 0.9549743301666287\n",
    "# 0.9748094872681604\n",
    "# 0.9770678173427654"
   ]
  },
  {
   "cell_type": "markdown",
   "metadata": {},
   "source": [
    "# Inference"
   ]
  },
  {
   "cell_type": "code",
   "execution_count": null,
   "metadata": {},
   "outputs": [],
   "source": [
    "# --- Prediction ---\n",
    "data_type = 'test'\n",
    "test_preds_list = []\n",
    "for i in range(4):\n",
    "    # --- prepare data ---\n",
    "    indices = [i]\n",
    "    test_images = prepare_image(\n",
    "        DATADIR, FEATHERDIR, data_type = data_type, submission=True, indices=indices)\n",
    "    n_dataset = len(test_images)\n",
    "    print(f'i={i}, n_dataset={n_dataset}')\n",
    "    # test_data_size = 200 if debug else int(n_dataset * 0.9)\n",
    "    test_dataset = BengaliAIDataset(\n",
    "    test_images, None,\n",
    "    transform=data_transforms[data_type])\n",
    "    print('test_dataset', len(test_dataset))\n",
    "    test_loader = DataLoader(test_dataset, batch_size=BATCH_SIZE, shuffle=False, num_workers=WORKER)\n",
    "    \n",
    "    test_preds_list = predict(model_ft, test_loader, data_type,DEVICE)\n",
    "    del test_images\n",
    "    gc.collect()\n",
    "    if DEBUG:\n",
    "        break"
   ]
  },
  {
   "cell_type": "code",
   "execution_count": null,
   "metadata": {},
   "outputs": [],
   "source": [
    "# Each test_preds indicates the prediction outputs of different batch\n",
    "p0 = np.concatenate([test_preds[0].cpu().numpy() for test_preds in test_preds_list], axis=0)\n",
    "p1 = np.concatenate([test_preds[1].cpu().numpy() for test_preds in test_preds_list], axis=0)\n",
    "p2 = np.concatenate([test_preds[2].cpu().numpy() for test_preds in test_preds_list], axis=0)\n",
    "print('p0', p0.shape, 'p1', p1.shape, 'p2', p2.shape)\n",
    "\n",
    "row_id = []\n",
    "target = []\n",
    "for i in tqdm(range(len(p0))):\n",
    "    row_id += [f'Test_{i}_grapheme_root', f'Test_{i}_vowel_diacritic',\n",
    "               f'Test_{i}_consonant_diacritic']\n",
    "    target += [p0[i], p1[i], p2[i]]\n",
    "pred_df = pd.DataFrame({'row_id': row_id, 'target': target})"
   ]
  },
  {
   "cell_type": "code",
   "execution_count": null,
   "metadata": {},
   "outputs": [],
   "source": [
    "pred_df.to_csv('submission.csv', index=False)"
   ]
  }
 ],
 "metadata": {
  "kernelspec": {
   "display_name": "Python 3",
   "language": "python",
   "name": "python3"
  },
  "language_info": {
   "codemirror_mode": {
    "name": "ipython",
    "version": 3
   },
   "file_extension": ".py",
   "mimetype": "text/x-python",
   "name": "python",
   "nbconvert_exporter": "python",
   "pygments_lexer": "ipython3",
   "version": "3.7.6"
  },
  "toc": {
   "base_numbering": 1,
   "nav_menu": {},
   "number_sections": true,
   "sideBar": true,
   "skip_h1_title": false,
   "title_cell": "Table of Contents",
   "title_sidebar": "Contents",
   "toc_cell": false,
   "toc_position": {
    "height": "calc(100% - 180px)",
    "left": "10px",
    "top": "150px",
    "width": "201.667px"
   },
   "toc_section_display": true,
   "toc_window_display": true
  }
 },
 "nbformat": 4,
 "nbformat_minor": 4
}
