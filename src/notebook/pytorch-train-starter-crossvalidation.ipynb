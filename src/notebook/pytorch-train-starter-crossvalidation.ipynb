{
 "cells": [
  {
   "cell_type": "code",
   "execution_count": null,
   "metadata": {},
   "outputs": [],
   "source": [
    "#!pip install albumentations > /dev/null\n",
    "#!pip install ../input/pretrainedmodels/pretrainedmodels-0.7.4/pretrainedmodels-0.7.4/ > /dev/null\n",
    "#!pip install ../input/iterativestratification/iterative_stratification-0.1.6-py3-none-any.whl > /dev/null"
   ]
  },
  {
   "cell_type": "markdown",
   "metadata": {},
   "source": [
    "# Import Libraries"
   ]
  },
  {
   "cell_type": "code",
   "execution_count": null,
   "metadata": {
    "_cell_guid": "b1076dfc-b9ad-4769-8c92-a6c4dae69d19",
    "_uuid": "8f2839f25d086af736a60e9eeb907d3b93b6e0e5"
   },
   "outputs": [],
   "source": [
    "#+---- Basic Libraries ----+#\n",
    "import sys, os, time, gc, random\n",
    "from pathlib import Path\n",
    "import pandas as pd\n",
    "import numpy as np\n",
    "import copy\n",
    "from utils import *\n",
    "\n",
    "#+---- Utilities Libraries ----+#\n",
    "#import albumentations as albu\n",
    "import pretrainedmodels\n",
    "from iterstrat.ml_stratifiers import MultilabelStratifiedKFold\n",
    "from PIL import Image\n",
    "from tqdm.notebook import tqdm\n",
    "import sklearn\n",
    "import seaborn as sns\n",
    "import matplotlib.pyplot as plt\n",
    "\n",
    "#+---- Pytorch Libraries ----+#\n",
    "import torch\n",
    "import torch.nn as nn\n",
    "import torch.optim as optim\n",
    "from torch.optim import lr_scheduler\n",
    "from torch.utils import model_zoo\n",
    "import numpy as np\n",
    "import torchvision\n",
    "from torchvision import datasets, models, transforms\n",
    "from torch.utils.data import Dataset, DataLoader\n",
    "\n",
    "#+---- List the input data ----+#\n",
    "for dirname, _, filenames in os.walk('../../input/'):\n",
    "    for filename in filenames:\n",
    "        print(os.path.join(dirname, filename))\n",
    "\n",
    "# Any results you write to the current directory are saved as output."
   ]
  },
  {
   "cell_type": "markdown",
   "metadata": {
    "_cell_guid": "79c7e3d0-c299-4dcb-8224-4455121ee9b0",
    "_uuid": "d629ff2d2480ee46fbb7e2d37f6b5fab8052498a",
    "collapsed": true
   },
   "source": [
    "# Initial Settings"
   ]
  },
  {
   "cell_type": "markdown",
   "metadata": {},
   "source": [
    "## Directories"
   ]
  },
  {
   "cell_type": "code",
   "execution_count": null,
   "metadata": {},
   "outputs": [],
   "source": [
    "DATADIR = Path('../../input')\n",
    "FEATHERDIR = Path('../../input/feather')\n",
    "OUTDIR = Path('.')"
   ]
  },
  {
   "cell_type": "markdown",
   "metadata": {},
   "source": [
    "## Learning Parameters"
   ]
  },
  {
   "cell_type": "code",
   "execution_count": null,
   "metadata": {},
   "outputs": [],
   "source": [
    "DEBUG =False\n",
    "SUBMISSION =False\n",
    "BATCH_SIZE =4\n",
    "NUM_EPOCH = 1\n",
    "DEVICE = torch.device(\"cuda:0\" if torch.cuda.is_available() else \"cpu\")\n",
    "MDL_DIR = '.'\n",
    "IMAGE_SIZE=224\n",
    "TRAIN_RATIO = 0.9\n",
    "WORKER = 0\n",
    "SEED = 6666\n",
    "MODEL_NAME ='se_resnet50'\n",
    "N_Fold = 10\n",
    "CV = True\n",
    "Fold = 1\n",
    "PATIAENCE = 4\n",
    "VER = 'v01'"
   ]
  },
  {
   "cell_type": "code",
   "execution_count": null,
   "metadata": {},
   "outputs": [],
   "source": [
    "n_grapheme = 168\n",
    "n_vowel = 11\n",
    "n_consonant = 7\n",
    "n_total = n_grapheme + n_vowel + n_consonant"
   ]
  },
  {
   "cell_type": "markdown",
   "metadata": {},
   "source": [
    "# Dataset"
   ]
  },
  {
   "cell_type": "markdown",
   "metadata": {},
   "source": [
    "## Transform class for data preprocessing and augmentations"
   ]
  },
  {
   "cell_type": "code",
   "execution_count": null,
   "metadata": {},
   "outputs": [],
   "source": [
    "def prepare_image(datadir, featherdir, data_type='train',\n",
    "                  submission=False, indices=[0, 1, 2, 3]):\n",
    "    assert data_type in ['train', 'test']\n",
    "    if submission:\n",
    "        image_df_list = [pd.read_parquet(datadir / f'{data_type}_image_data_{i}.parquet')\n",
    "                         for i in indices]\n",
    "    else:\n",
    "        image_df_list = [pd.read_feather(featherdir / f'{data_type}_image_data_{i}.feather')\n",
    "                         for i in indices]\n",
    "\n",
    "    print('image_df_list', len(image_df_list))\n",
    "    HEIGHT = 137\n",
    "    WIDTH = 236\n",
    "    images = [df.iloc[:, 1:].values.reshape(-1, HEIGHT, WIDTH) for df in image_df_list]\n",
    "    del image_df_list\n",
    "    gc.collect()\n",
    "    images = np.concatenate(images, axis=0)\n",
    "    return images"
   ]
  },
  {
   "cell_type": "code",
   "execution_count": null,
   "metadata": {},
   "outputs": [],
   "source": [
    "def crop_char_image(image, threshold=5./255.):\n",
    "    assert image.ndim == 2\n",
    "    is_black = image > threshold\n",
    "\n",
    "    is_black_vertical = np.sum(is_black, axis=0) > 0\n",
    "    is_black_horizontal = np.sum(is_black, axis=1) > 0\n",
    "    left = np.argmax(is_black_horizontal)\n",
    "    right = np.argmax(is_black_horizontal[::-1])\n",
    "    top = np.argmax(is_black_vertical)\n",
    "    bottom = np.argmax(is_black_vertical[::-1])\n",
    "    height, width = image.shape\n",
    "    cropped_image = image[left:height - right, top:width - bottom]\n",
    "    return cropped_image"
   ]
  },
  {
   "cell_type": "code",
   "execution_count": null,
   "metadata": {},
   "outputs": [],
   "source": [
    "data_transforms = {\n",
    "    'train': transforms.Compose([\n",
    "        #transforms.ToPILImage(),\n",
    "        transforms.ColorJitter(0.5,0.5,0.5,0.5),\n",
    "        transforms.RandomAffine(degrees=0.6),\n",
    "        transforms.Resize((IMAGE_SIZE,IMAGE_SIZE)),\n",
    "        transforms.ToTensor(),\n",
    "        transforms.Normalize([0.485, 0.456, 0.406], [0.229, 0.224, 0.225]),\n",
    "    \n",
    "    ]),\n",
    "    'val': transforms.Compose([\n",
    "        #transforms.ToPILImage(),\n",
    "        transforms.Resize((IMAGE_SIZE,IMAGE_SIZE)),\n",
    "        transforms.ToTensor(),\n",
    "        transforms.Normalize([0.485, 0.456, 0.406], [0.229, 0.224, 0.225])\n",
    "    ]),\n",
    "    'test': transforms.Compose([\n",
    "        #transforms.ToPILImage(),\n",
    "        transforms.Resize((IMAGE_SIZE,IMAGE_SIZE)),\n",
    "        transforms.ToTensor(),\n",
    "        transforms.Normalize([0.485, 0.456, 0.406], [0.229, 0.224, 0.225])\n",
    "    ])\n",
    "}"
   ]
  },
  {
   "cell_type": "code",
   "execution_count": null,
   "metadata": {},
   "outputs": [],
   "source": [
    "class BengaliAIDataset(Dataset):\n",
    "    def __init__(self, images, labels=None, transform=None, indices=None):\n",
    "        self.transform = transform\n",
    "        self.images = images\n",
    "        self.labels = labels\n",
    "        if indices is None:\n",
    "            indices = np.arange(len(images))\n",
    "        self.indices = indices\n",
    "        self.train = labels is not None\n",
    "\n",
    "    def __len__(self):\n",
    "        \"\"\"return length of this dataset\"\"\"\n",
    "        return len(self.indices)\n",
    "      \n",
    "    def __getitem__(self, i):\n",
    "        \"\"\"Return i-th data\"\"\"\n",
    "        i = self.indices[i]\n",
    "        x = self.images[i]\n",
    "        # Opposite white and black: background will be white and\n",
    "        # for future Affine transformation\n",
    "        x = (255 - x).astype(np.float32) #/ 255.\n",
    "        x = crop_char_image(x)\n",
    "        x = Image.fromarray(x).convert(\"RGB\")\n",
    "        x = self.transform(x)\n",
    "        if self.train:\n",
    "            y = self.labels[i]\n",
    "            return x, y\n",
    "        else:\n",
    "            return x"
   ]
  },
  {
   "cell_type": "markdown",
   "metadata": {},
   "source": [
    "## Import Data"
   ]
  },
  {
   "cell_type": "code",
   "execution_count": null,
   "metadata": {},
   "outputs": [],
   "source": [
    "train = pd.read_csv(DATADIR/'train.csv')\n",
    "train['id'] = train['image_id'].apply(lambda x: int(x.split('_')[1]))\n",
    "X, y = train[['id', 'grapheme_root', 'vowel_diacritic', 'consonant_diacritic']]\\\n",
    ".values[:,0], train.values[:,1:]\n",
    "train['fold'] = np.nan\n",
    "mskf = MultilabelStratifiedKFold(n_splits=N_Fold, random_state=SEED)\n",
    "for i, (_, index) in enumerate(mskf.split(X, y)):\n",
    "    print('Fold '+str(i+1))\n",
    "    train.iloc[index, -1] = i\n",
    "train['fold'] = train['fold'].astype('int')"
   ]
  },
  {
   "cell_type": "code",
   "execution_count": null,
   "metadata": {},
   "outputs": [],
   "source": [
    "%%time\n",
    "#train = pd.read_csv(DATADIR/'train.csv')\n",
    "train_labels = train[['grapheme_root', 'vowel_diacritic', 'consonant_diacritic']].values\n",
    "indices = [0] if DEBUG else [0, 1, 2, 3]\n",
    "train_images = prepare_image(\n",
    "    DATADIR, FEATHERDIR, data_type='train', submission=False, indices=indices)"
   ]
  },
  {
   "cell_type": "code",
   "execution_count": null,
   "metadata": {},
   "outputs": [],
   "source": [
    "n_dataset = len(train_images)\n",
    "\n",
    "if not CV:\n",
    "    train_data_size = 200 if DEBUG else int(n_dataset * TRAIN_RATIO)\n",
    "    valid_data_size = 100 if DEBUG else int(n_dataset - train_data_size)\n",
    "    perm = np.random.RandomState(777).permutation(n_dataset)\n",
    "    print('perm', perm)\n",
    "\n",
    "    train_dataset = BengaliAIDataset(\n",
    "        train_images, train_labels, transform=data_transforms['train'],\n",
    "        indices=perm[:train_data_size])\n",
    "\n",
    "    valid_dataset = BengaliAIDataset(\n",
    "        train_images, train_labels, transform=data_transforms['val'],\n",
    "        indices=perm[train_data_size:train_data_size+valid_data_size])\n",
    "else:\n",
    "    valid_idx = np.array(train[train['fold']==Fold].index)\n",
    "    trn_idx = np.array(train[train['fold']!=Fold].index)\n",
    "    trn_idx = trn_idx[:200] if DEBUG else trn_idx\n",
    "    valid_idx = valid_idx[:100] if DEBUG else valid_idx\n",
    "    \n",
    "    train_dataset = BengaliAIDataset(\n",
    "        train_images, train_labels, transform=data_transforms['train'],\n",
    "        indices=trn_idx)\n",
    "    valid_dataset = BengaliAIDataset(\n",
    "        train_images, train_labels, transform=data_transforms['val'],\n",
    "        indices=valid_idx)\n",
    "\n",
    "train_loader = DataLoader(train_dataset, batch_size=BATCH_SIZE, shuffle=True, num_workers=WORKER)\n",
    "valid_loader = DataLoader(valid_dataset, batch_size=BATCH_SIZE, shuffle=False, num_workers=WORKER)\n",
    "\n",
    "dataloaders = {'train':train_loader, 'val': valid_loader}\n",
    "dataset_sizes = {'train':len(train_dataset), 'val': len(valid_dataset)}"
   ]
  },
  {
   "cell_type": "code",
   "execution_count": null,
   "metadata": {},
   "outputs": [],
   "source": [
    "image, label = train_dataset[1]\n",
    "print('image', image.shape, 'label', label)"
   ]
  },
  {
   "cell_type": "markdown",
   "metadata": {},
   "source": [
    "# Define Model/Train functions"
   ]
  },
  {
   "cell_type": "code",
   "execution_count": null,
   "metadata": {},
   "outputs": [],
   "source": [
    "def train_model(model, dataloaders, criterion, optimizer, scheduler, num_epochs, device, patiance):\n",
    "    since = time.time()\n",
    "    \n",
    "    trn_loss_list =[]\n",
    "    trn_acc_list = []\n",
    "    val_loss_list =[]\n",
    "    val_acc_list = []\n",
    "    epoch_list = []\n",
    "    \n",
    "    \n",
    "    best_model_wts = copy.deepcopy(model.state_dict())\n",
    "    best_acc = 0.0\n",
    "    torch.backends.cudnn.benchmark = True\n",
    "    early_stopping_counter = 0\n",
    "\n",
    "    for epoch in range(num_epochs):\n",
    "        print('Epoch {}/{}'.format(epoch+1, num_epochs))\n",
    "        print('-' * 10)\n",
    "        \n",
    "        if early_stopping_counter == patiance:\n",
    "            print(f'Early Stopped since loss have not decreased for {patiance} epoch.')\n",
    "            break\n",
    "        epoch_list.append(epoch)\n",
    "        # Each epoch has a training and validation phase\n",
    "        for phase in ['train', 'val']:\n",
    "            if phase == 'train':\n",
    "                model.train()  # Set model to training mode\n",
    "            else:\n",
    "                model.eval()   # Set model to evaluate mode\n",
    "\n",
    "            epoch_loss = 0.0\n",
    "            epoch_corrects = 0\n",
    "            dataset_sizes = len(dataloaders[phase].dataset)\n",
    "\n",
    "            # Iterate over data.\n",
    "            for inputs, labels in tqdm(dataloaders[phase]):\n",
    "                #print(inputs.shape)\n",
    "                inputs = inputs.to(device)\n",
    "                labels = labels.transpose(1,0) #use when single label for one image\n",
    "\n",
    "                grapheme_root = labels[0].to(device)\n",
    "                vowel_diacritic = labels[1].to(device)\n",
    "                consonant_diacritic = labels[2].to(device)\n",
    "\n",
    "\n",
    "                # zero the parameter gradients\n",
    "                optimizer.zero_grad()\n",
    "\n",
    "                # forward\n",
    "                # track history if only in train\n",
    "                with torch.set_grad_enabled(phase == 'train'):\n",
    "                    outputs = model(inputs) \n",
    "                    #_, preds = torch.max(outputs, 1)\n",
    "                    #outputs shape is tuple with (bs, num_class1), (bs, num_class2), (bs, num_class3)\n",
    "                    grapheme_root_prd = outputs[0]\n",
    "                    vowel_diacritic_prd = outputs[1]\n",
    "                    consonant_diacritic_prd = outputs[2]\n",
    "\n",
    "\n",
    "                    #loss = criterion(outputs, labels)\n",
    "                    #output shape : (batch size, class number)\n",
    "                    #label shape : batch size\n",
    "                    loss = (1/3)*(criterion(grapheme_root_prd, grapheme_root)+\\\n",
    "                                criterion(vowel_diacritic_prd, vowel_diacritic) +\\\n",
    "                                  criterion(consonant_diacritic_prd, consonant_diacritic))\n",
    "                    \n",
    "                    # backward + optimize only if in training phase\n",
    "                    if phase == 'train':\n",
    "                        loss.backward()\n",
    "                        optimizer.step()\n",
    "\n",
    "                # statistics: inputs.size(0) is batch size\n",
    "                epoch_loss += loss.item() * inputs.size(0) # total loss for this batch\n",
    "                epoch_corrects += torch.sum(torch.max(outputs[0], 1)[1] == labels[0])+\\\n",
    "                    torch.sum(torch.max(outputs[1], 1)[1] == labels[1])+\\\n",
    "                    torch.sum(torch.max(outputs[2], 1)[1] == labels[2])\n",
    "            if phase == 'train':\n",
    "                #scheduler.step()\n",
    "                # if plateau scheduler use following\n",
    "                scheduler.step(epoch_loss)\n",
    "\n",
    "            epoch_loss = epoch_loss / dataset_sizes\n",
    "            epoch_acc = epoch_corrects.double() / (dataset_sizes*3)\n",
    "            \n",
    "            if phase == 'train':\n",
    "                trn_loss_list.append(epoch_loss)\n",
    "                trn_acc_list.append(epoch_acc.numpy())\n",
    "\n",
    "            print('{} Loss: {:.4f} Acc: {:.4f}'.format(\n",
    "                phase, epoch_loss, epoch_acc))\n",
    "\n",
    "            # Deep copy the model\n",
    "            if phase == 'val' and epoch_acc > best_acc:\n",
    "                best_acc = epoch_acc\n",
    "                best_model_wts = copy.deepcopy(model.state_dict())\n",
    "                save_path = f'{MDL_DIR}/{MODEL_NAME}_'+str(epoch)+'.pth'\n",
    "                torch.save(model_ft.state_dict(),save_path)\n",
    "            \n",
    "            if phase == 'val':\n",
    "                val_loss_list.append(epoch_loss)\n",
    "                val_acc_list.append(epoch_acc.numpy())\n",
    "                # Early Stopping\n",
    "                if epoch == 0:\n",
    "                    best_loss = epoch_loss\n",
    "                else:\n",
    "                    if epoch_loss < best_loss:\n",
    "                        best_loss = epoch_loss\n",
    "                    else:\n",
    "                        early_stopping_counter += 1\n",
    "                        print(f'Early stopping counter: {early_stopping_counter}')\n",
    "        \n",
    "    time_elapsed = time.time() - since\n",
    "    print('Training complete in {:.0f}m {:.0f}s'.format(\n",
    "        time_elapsed // 60, time_elapsed % 60))\n",
    "    print('Best val Acc: {:4f}'.format(best_acc))\n",
    "\n",
    "    # load best model weights\n",
    "    model.load_state_dict(best_model_wts)\n",
    "    log = pd.DataFrame()\n",
    "    log['Epoch'] = epoch_list\n",
    "    log['Train Loss'] = trn_loss_list\n",
    "    log['Train Acc'] = trn_acc_list\n",
    "    log['Valid Loss'] = val_loss_list\n",
    "    log['Valid Acc'] = val_acc_list\n",
    "    log.to_csv(f'{MDL_DIR}/log_{MODEL_NAME}_{VER}.csv',index=False)\n",
    "        \n",
    "    return model"
   ]
  },
  {
   "cell_type": "code",
   "execution_count": null,
   "metadata": {},
   "outputs": [],
   "source": [
    "class bengali_model(nn.Module):\n",
    "    def __init__(self, num_classes1, num_classes2, num_classes3):\n",
    "        super(bengali_model, self).__init__()\n",
    "        self.model = pretrainedmodels.__dict__[MODEL_NAME](pretrained=None)\n",
    "        num_ftrs = self.model.last_linear.in_features\n",
    "        self.model.last_linear = nn.Identity()\n",
    "        self.fc1 = nn.Linear(num_ftrs, num_classes1)\n",
    "        self.fc2 = nn.Linear(num_ftrs, num_classes2)\n",
    "        self.fc3 = nn.Linear(num_ftrs, num_classes3)\n",
    "\n",
    "    def forward(self, x):\n",
    "        x = self.model(x)\n",
    "        out1 = self.fc1(x)\n",
    "        out2 = self.fc2(x)\n",
    "        out3 = self.fc3(x)\n",
    "        return out1, out2, out3"
   ]
  },
  {
   "cell_type": "code",
   "execution_count": null,
   "metadata": {},
   "outputs": [],
   "source": [
    "# --- Model ---\n",
    "\n",
    "model_ft = bengali_model(n_grapheme,n_vowel , n_consonant)\n",
    "model_ft = model_ft.to(DEVICE)\n",
    "\n",
    "#criterion = nn.BCEWithLogitsLoss()\n",
    "criterion = nn.CrossEntropyLoss()\n",
    "optimizer = torch.optim.Adam(model_ft.parameters(), lr=0.001)\n",
    "\n",
    "scheduler = torch.optim.lr_scheduler.ReduceLROnPlateau(\n",
    "    optimizer, mode='min', factor=0.7, patience=5, min_lr=1e-10)"
   ]
  },
  {
   "cell_type": "code",
   "execution_count": null,
   "metadata": {},
   "outputs": [],
   "source": [
    "torch.cuda.empty_cache()\n",
    "gc.collect()"
   ]
  },
  {
   "cell_type": "code",
   "execution_count": null,
   "metadata": {
    "scrolled": true
   },
   "outputs": [],
   "source": [
    "model_ft = train_model(model_ft, dataloaders, criterion, optimizer, scheduler, NUM_EPOCH, DEVICE, PATIAENCE)"
   ]
  },
  {
   "cell_type": "code",
   "execution_count": null,
   "metadata": {},
   "outputs": [],
   "source": [
    "log = pd.read_csv(f'/kaggle/working/log_{MODEL_NAME}_{VER}.csv')\n",
    "sns.lineplot(x=log['Epoch'], y=log['Valid Acc'], color='blue')\n",
    "#sns.lineplot(x=log['Epoch'], y=log['Train Acc'], color='red')\n",
    "plt.show()"
   ]
  },
  {
   "cell_type": "markdown",
   "metadata": {},
   "source": [
    "# Evaluation"
   ]
  },
  {
   "cell_type": "code",
   "execution_count": null,
   "metadata": {},
   "outputs": [],
   "source": [
    "def macro_recall(pred_labels, y, n_grapheme=168, n_vowel=11, n_consonant=7):\n",
    "    recall_grapheme = sklearn.metrics.recall_score(pred_labels[0], y[0], average='macro')\n",
    "    recall_vowel = sklearn.metrics.recall_score(pred_labels[1], y[1], average='macro')\n",
    "    recall_consonant = sklearn.metrics.recall_score(pred_labels[2], y[2], average='macro')\n",
    "    scores = [recall_grapheme, recall_vowel, recall_consonant]\n",
    "    final_score = np.average(scores, weights=[2, 1, 1])\n",
    "    print(f'recall: grapheme {recall_grapheme}, vowel {recall_vowel}, consonant {recall_consonant}, '\n",
    "           f'total {final_score}')\n",
    "    return final_score"
   ]
  },
  {
   "cell_type": "code",
   "execution_count": null,
   "metadata": {},
   "outputs": [],
   "source": [
    "def predict(model, dataloaders, phase, device):\n",
    "    model.eval()\n",
    "    output_list = []\n",
    "    label_list = []\n",
    "    with torch.no_grad():\n",
    "        if phase == 'test':\n",
    "            for i, inputs in enumerate(tqdm(dataloaders)):\n",
    "                \n",
    "                inputs = inputs.to(device)\n",
    "                outputs = model(inputs)\n",
    "                _, pred0 = torch.max(outputs[0], 1)\n",
    "                _, pred1 = torch.max(outputs[1], 1)\n",
    "                _, pred2 = torch.max(outputs[2], 1)\n",
    "                preds = (pred0, pred1, pred2)\n",
    "                output_list.append(preds)\n",
    "            return output_list\n",
    "        elif phase == 'val':\n",
    "            for i, (inputs, labels) in enumerate(tqdm(dataloaders)):\n",
    "                \n",
    "                inputs = inputs.to(device)\n",
    "                outputs = model(inputs)\n",
    "                _, pred0 = torch.max(outputs[0], 1)\n",
    "                _, pred1 = torch.max(outputs[1], 1)\n",
    "                _, pred2 = torch.max(outputs[2], 1)\n",
    "                preds = (pred0, pred1, pred2)\n",
    "                output_list.append(preds)\n",
    "                label_list.append(labels.transpose(1,0))\n",
    "            return output_list, label_list"
   ]
  },
  {
   "cell_type": "code",
   "execution_count": null,
   "metadata": {},
   "outputs": [],
   "source": [
    "# --- Prediction ---\n",
    "data_type = 'val'\n",
    "valid_preds_list = []\n",
    "print('valid_dataset', len(valid_dataset))\n",
    "valid_preds_list, valid_label_list = predict(model_ft, valid_loader, data_type, DEVICE)\n",
    "gc.collect()"
   ]
  },
  {
   "cell_type": "code",
   "execution_count": null,
   "metadata": {},
   "outputs": [],
   "source": [
    "# Each test_preds indicates the prediction outputs of different batch\n",
    "p0 = np.concatenate([valid_preds[0].cpu().numpy() for valid_preds in valid_preds_list], axis=0)\n",
    "p1 = np.concatenate([valid_preds[1].cpu().numpy() for valid_preds in valid_preds_list], axis=0)\n",
    "p2 = np.concatenate([valid_preds[2].cpu().numpy() for valid_preds in valid_preds_list], axis=0)\n",
    "print('p0', p0.shape, 'p1', p1.shape, 'p2', p2.shape)\n",
    "\n",
    "a0 = np.concatenate([valid_label[0].cpu().numpy() for valid_label in valid_label_list], axis=0)\n",
    "a1 = np.concatenate([valid_label[1].cpu().numpy() for valid_label in valid_label_list], axis=0)\n",
    "a2 = np.concatenate([valid_label[2].cpu().numpy() for valid_label in valid_label_list], axis=0)\n",
    "print('a0', a0.shape, 'a1', a1.shape, 'a2', a2.shape)\n",
    "\n",
    "pred_labels = [p0, p1, p2]\n",
    "y = [a0, a1, a2]\n",
    "macro_recall(pred_labels, y, n_grapheme=168, n_vowel=11, n_consonant=7)"
   ]
  },
  {
   "cell_type": "markdown",
   "metadata": {},
   "source": [
    "# Inference"
   ]
  },
  {
   "cell_type": "code",
   "execution_count": null,
   "metadata": {},
   "outputs": [],
   "source": [
    "# --- Prediction ---\n",
    "data_type = 'test'\n",
    "test_preds_list = []\n",
    "for i in range(4):\n",
    "    # --- prepare data ---\n",
    "    indices = [i]\n",
    "    test_images = prepare_image(\n",
    "        DATADIR, FEATHERDIR, data_type = data_type, submission=True, indices=indices)\n",
    "    n_dataset = len(test_images)\n",
    "    print(f'i={i}, n_dataset={n_dataset}')\n",
    "    # test_data_size = 200 if debug else int(n_dataset * 0.9)\n",
    "    test_dataset = BengaliAIDataset(\n",
    "    test_images, None,\n",
    "    transform=data_transforms[data_type])\n",
    "    print('test_dataset', len(test_dataset))\n",
    "    test_loader = DataLoader(test_dataset, batch_size=BATCH_SIZE, shuffle=False, num_workers=WORKER)\n",
    "    \n",
    "    test_preds_list = predict(model_ft, test_loader, data_type,DEVICE)\n",
    "    del test_images\n",
    "    gc.collect()\n",
    "    if DEBUG:\n",
    "        break"
   ]
  },
  {
   "cell_type": "code",
   "execution_count": null,
   "metadata": {},
   "outputs": [],
   "source": [
    "# Each test_preds indicates the prediction outputs of different batch\n",
    "p0 = np.concatenate([test_preds[0].cpu().numpy() for test_preds in test_preds_list], axis=0)\n",
    "p1 = np.concatenate([test_preds[1].cpu().numpy() for test_preds in test_preds_list], axis=0)\n",
    "p2 = np.concatenate([test_preds[2].cpu().numpy() for test_preds in test_preds_list], axis=0)\n",
    "print('p0', p0.shape, 'p1', p1.shape, 'p2', p2.shape)\n",
    "\n",
    "row_id = []\n",
    "target = []\n",
    "for i in tqdm(range(len(p0))):\n",
    "    row_id += [f'Test_{i}_grapheme_root', f'Test_{i}_vowel_diacritic',\n",
    "               f'Test_{i}_consonant_diacritic']\n",
    "    target += [p0[i], p1[i], p2[i]]\n",
    "pred_df = pd.DataFrame({'row_id': row_id, 'target': target})"
   ]
  },
  {
   "cell_type": "code",
   "execution_count": null,
   "metadata": {},
   "outputs": [],
   "source": [
    "pred_df.to_csv('submission.csv', index=False)"
   ]
  }
 ],
 "metadata": {
  "kernelspec": {
   "display_name": "Python 3",
   "language": "python",
   "name": "python3"
  },
  "language_info": {
   "codemirror_mode": {
    "name": "ipython",
    "version": 3
   },
   "file_extension": ".py",
   "mimetype": "text/x-python",
   "name": "python",
   "nbconvert_exporter": "python",
   "pygments_lexer": "ipython3",
   "version": "3.7.5"
  },
  "toc": {
   "base_numbering": 1,
   "nav_menu": {},
   "number_sections": true,
   "sideBar": true,
   "skip_h1_title": false,
   "title_cell": "Table of Contents",
   "title_sidebar": "Contents",
   "toc_cell": false,
   "toc_position": {},
   "toc_section_display": true,
   "toc_window_display": false
  }
 },
 "nbformat": 4,
 "nbformat_minor": 4
}
